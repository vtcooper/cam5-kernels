{
 "cells": [
  {
   "cell_type": "markdown",
   "id": "d64422f9-304c-4bb1-a16a-1133f4dd2c91",
   "metadata": {},
   "source": [
    "# Python version of radiative kernels\n",
    "V. Cooper (2023)\n",
    "- 0) Before running, make timeseries on std pressure levels\n",
    "- 1) Compute climatology\n",
    "- 2) Horizontal regridding\n",
    "- 3) Feedback calcs converted from Pendergrass public scripts"
   ]
  },
  {
   "cell_type": "markdown",
   "id": "59e7745e-396a-4d10-9fce-d273d51a213d",
   "metadata": {},
   "source": [
    "Before running these scripts, postprocess the 3D fields into \n",
    "timeseries that are on pressure levels (not hybrid-sigma levels as \n",
    "in the native output). After timeseries files are prepared, they can\n",
    "be loaded here to make a climatology, regrid onto kernel grid, then compute feedbacks."
   ]
  },
  {
   "cell_type": "markdown",
   "id": "bc8cd39b-7c33-42ba-92a9-7ec4f8409ee3",
   "metadata": {},
   "source": [
    "Note: if changing the pressure levels from CMIP to something else,\n",
    "- run \"ncl scripts/calcp.ncl\"\n",
    "- run \"ncl tools/calcdp_plev.ncl\"\n",
    "- run \"ncl tools/t_kernel_to_plev.ncl\"\n",
    "- run \"ncl tools/q_kernel_to_plev.ncl\"\n",
    "\n",
    "Note: the following 2 scripts are replaced by the timeseries creation, \n",
    "which already puts fields on pressure levels. No need to do these:\n",
    "- don't run \"ncl tools/convert_base_to_plevs.ncl\"\n",
    "- don't run \"ncl tools/convert_change_to_plevs.ncl\""
   ]
  },
  {
   "cell_type": "code",
   "execution_count": 1,
   "id": "45e7b503-2b79-4f3d-ae2f-8a23c5d452b6",
   "metadata": {},
   "outputs": [],
   "source": [
    "# import warnings\n",
    "# warnings.filterwarnings('ignore')\n",
    "\n",
    "import numpy as np\n",
    "import matplotlib as mpl\n",
    "import matplotlib.pyplot as plt\n",
    "import xarray as xr\n",
    "# import xesmf as xe\n",
    "import cartopy.crs as ccrs\n",
    "import cartopy.feature as cfeature\n",
    "import copy\n",
    "import pandas as pd\n",
    "import cmocean as cmo\n",
    "from cartopy.util import add_cyclic_point\n",
    "import seaborn as sns\n",
    "%matplotlib inline\n",
    "\n",
    "import xesmf as xe"
   ]
  },
  {
   "cell_type": "markdown",
   "id": "1d6733af-f46b-4e2d-bac2-f74b904edf26",
   "metadata": {},
   "source": [
    "# Compute climatology"
   ]
  },
  {
   "cell_type": "code",
   "execution_count": 2,
   "id": "f4de0a30-3210-4791-bb9c-d0ab27bff2c7",
   "metadata": {},
   "outputs": [],
   "source": [
    "## these are the dummy files for format and grid matching\n",
    "path = './'\n",
    "\n",
    "## these are demodata, will be replaced later after we match\n",
    "## the file formatting\n",
    "basefields = xr.open_dataset(path +'demodata/'+ 'basefields.nc~')\n",
    "changefields = xr.open_dataset(path +'demodata/'+ 'changefields.nc~')\n",
    "PSdemo = xr.open_dataset(path + 'kernels/PS.nc')\n",
    "pdiff = xr.open_dataset(path + 'dp_plev.nc')\n",
    "gw = xr.open_dataset(path +'kernels/'+ 't.kernel.nc').gw\n",
    "\n",
    "varlist = ['FSDS','FSNS','Q','T','FLNS',\n",
    "           'FLNSC','FLNT','FLNTC','FSNSC',\n",
    "           'FSNT','FSNTC','PS'] #'TS' will be loaded by default"
   ]
  },
  {
   "cell_type": "markdown",
   "id": "cd765c33-6436-4dd8-8fd3-c2225b70d555",
   "metadata": {},
   "source": [
    "### Select cases here"
   ]
  },
  {
   "cell_type": "code",
   "execution_count": 3,
   "id": "e5447e31-88f5-4773-942a-84eb1ebf12cc",
   "metadata": {},
   "outputs": [],
   "source": [
    "path = '/glade/scratch/vcooper/processed/'\n",
    "\n",
    "## SELECT BASECASE\n",
    "basecase = 'f.e1221.F_2000_CAM5.f19_f19.LGMRholo.002' ## CAM5\n",
    "\n",
    "# basecase = 'f.e1221.F_2000.f19_f19.LGMRholo.002' ## CAM4\n",
    "#basecase = 'f.e1221.F_2000.f19_f19.LGMRholo.003' ## CAM4 v3\n",
    "\n",
    "## SELECT CHANGECASE\n",
    "# case = 'f.e1221.F_2000_CAM5.f19_f19.longrunmip-0p5.002'\n",
    "# case = 'f.e1221.F_2000_CAM5.f19_f19.longrunmip.002'\n",
    "# case = 'f.e1221.F_2000_CAM5.f19_f19.LGMR-0p5.002'\n",
    "# case = 'f.e1221.F_2000_CAM5.f19_f19.LGMRlgm.001'\n",
    "# case = 'f.e1221.F_2000_CAM5.f19_f19.lgmDA.002'\n",
    "case = 'f.e1221.F_2000_CAM5.f19_f19.lgmDA-0p5.002'\n",
    "\n",
    "# case = 'f.e1221.F_2000.f19_f19.longrunmip-0p5.002'\n",
    "# case = 'f.e1221.F_2000.f19_f19.longrunmip2x.002'\n",
    "# case = 'f.e1221.F_2000.f19_f19.LGMR-0p5.002'\n",
    "# case = 'f.e1221.F_2000.f19_f19.LGMRlgm.001'\n",
    "\n",
    "changecase = case\n",
    "\n",
    "## load in the full timeseries\n",
    "fname = basecase + '.cam.h0.tseries_interp.nc'\n",
    "basecam_out = xr.open_dataset(path + basecase +'/'+fname)\n",
    "fname = case + '.cam.h0.tseries_interp.nc'\n",
    "cam_out = xr.open_dataset(path + case +'/'+fname)"
   ]
  },
  {
   "cell_type": "code",
   "execution_count": 4,
   "id": "f87562b4-92f7-44f0-a35e-f4264b32ccbf",
   "metadata": {},
   "outputs": [],
   "source": [
    "## this is stupid code to fix the months\n",
    "init_bound = np.array(xr.cftime_range(start=\"0006\", periods=1, freq=\"MS\", calendar=\"noleap\")[0])\n",
    "dumtime = np.hstack([init_bound,cam_out.time.values])\n",
    "newtime = dumtime[0:-1]\n",
    "cam_out['time'] = newtime\n",
    "basecam_out['time'] = newtime\n",
    "cam_climo = cam_out.groupby('time.month').mean()\n",
    "basecam_climo = basecam_out.groupby('time.month').mean()"
   ]
  },
  {
   "cell_type": "code",
   "execution_count": 5,
   "id": "4d4f369b-ff88-4731-bf5f-f8074ca26454",
   "metadata": {},
   "outputs": [],
   "source": [
    "## OLD VERSION: save these files (not necessary anymore)\n",
    "# path = '/glade/scratch/vcooper/processed/'\n",
    "# savename = case + '.cam.h0.climo.nc'\n",
    "# cam_climo.to_netcdf(path + case + '/' + savename)\n",
    "# print('finished save of ', savename)"
   ]
  },
  {
   "cell_type": "code",
   "execution_count": 6,
   "id": "cbc143a8-9dba-4f42-93d0-eee894bde171",
   "metadata": {},
   "outputs": [],
   "source": [
    "### Change some fields to match demodata\n",
    "basecase = basecam_climo.rename(\n",
    "    {'month':'time','T':'temp','TS':'ts','lev':'lev_p'})\n",
    "\n",
    "changecase = cam_climo.rename(\n",
    "    {'month':'time','T':'temp','TS':'ts','lev':'lev_p'})"
   ]
  },
  {
   "cell_type": "code",
   "execution_count": 7,
   "id": "69da9626-fb49-4e04-84ac-41ed04ddd4a4",
   "metadata": {},
   "outputs": [],
   "source": [
    "diff = changecase - basecase"
   ]
  },
  {
   "cell_type": "markdown",
   "id": "681ab58e-081f-4c6e-bcc6-90c16a790a33",
   "metadata": {
    "tags": []
   },
   "source": [
    "# Regrid horizontal fields to match kernel 1 degree resolution"
   ]
  },
  {
   "cell_type": "code",
   "execution_count": 8,
   "id": "0076a611-8656-4b06-8878-bce9807316da",
   "metadata": {},
   "outputs": [],
   "source": [
    "## xesmf issue with date and datesec, avoiding it here:\n",
    "regridvars = ['temp',\n",
    "                         # 'date',\n",
    "                         # 'datesec',\n",
    "                         'Q',\n",
    "                         'PS',\n",
    "                         'ts',\n",
    "                         'FSDS',\n",
    "                         'FSNS',\n",
    "                         'FLNS',\n",
    "                         'FLNSC',\n",
    "                         'FLNT',\n",
    "                         'FLNTC',\n",
    "                         'FSNSC',\n",
    "                         'FSNT',\n",
    "                         'FSNTC']"
   ]
  },
  {
   "cell_type": "code",
   "execution_count": 9,
   "id": "f8ec9aac-292a-492b-839a-20de75e79a1e",
   "metadata": {},
   "outputs": [
    {
     "name": "stdout",
     "output_type": "stream",
     "text": [
      "Reuse existing file: bilinear_2deg_to_1deg.nc\n",
      "using dimensions ('lat', 'lon') from data variable temp as the horizontal dimensions for this dataset.\n"
     ]
    },
    {
     "name": "stderr",
     "output_type": "stream",
     "text": [
      "/glade/u/home/vcooper/miniconda3/envs/plato/lib/python3.8/site-packages/xesmf/frontend.py:477: FutureWarning: ``output_sizes`` should be given in the ``dask_gufunc_kwargs`` parameter. It will be removed as direct parameter in a future version.\n",
      "  ds_out = xr.apply_ufunc(\n"
     ]
    },
    {
     "name": "stdout",
     "output_type": "stream",
     "text": [
      "using dimensions ('lat', 'lon') from data variable temp as the horizontal dimensions for this dataset.\n"
     ]
    }
   ],
   "source": [
    "newgrid = basefields.ts[0].to_dataset()\n",
    "newgrid = basefields\n",
    "\n",
    "data_for_regridding = basecase.ts[0].to_dataset()\n",
    "data_for_regridding = basecase\n",
    "\n",
    "regridder = xe.Regridder(data_for_regridding, newgrid,\n",
    "                         method='bilinear',\n",
    "                         periodic=True,\n",
    "                         # extrap_method='inverse_dist',extrap_num_src_pnts=8,\n",
    "                         filename='bilinear_2deg_to_1deg.nc',\n",
    "                         reuse_weights=True)\n",
    "\n",
    "base_regrid = regridder(basecase[regridvars])\n",
    "diff_regrid = regridder(diff[regridvars])\n",
    "\n",
    "## avoiding xesmf issue\n",
    "base_regrid['date'] = basecase['date']\n",
    "base_regrid['datesec'] = basecase['datesec']\n",
    "\n",
    "diff_regrid['date'] = diff['date']\n",
    "diff_regrid['datesec'] = diff['datesec']"
   ]
  },
  {
   "cell_type": "code",
   "execution_count": 10,
   "id": "18abe940-07d6-4494-bbdb-4a56df93d2bf",
   "metadata": {},
   "outputs": [
    {
     "data": {
      "text/html": [
       "<div><svg style=\"position: absolute; width: 0; height: 0; overflow: hidden\">\n",
       "<defs>\n",
       "<symbol id=\"icon-database\" viewBox=\"0 0 32 32\">\n",
       "<path d=\"M16 0c-8.837 0-16 2.239-16 5v4c0 2.761 7.163 5 16 5s16-2.239 16-5v-4c0-2.761-7.163-5-16-5z\"></path>\n",
       "<path d=\"M16 17c-8.837 0-16-2.239-16-5v6c0 2.761 7.163 5 16 5s16-2.239 16-5v-6c0 2.761-7.163 5-16 5z\"></path>\n",
       "<path d=\"M16 26c-8.837 0-16-2.239-16-5v6c0 2.761 7.163 5 16 5s16-2.239 16-5v-6c0 2.761-7.163 5-16 5z\"></path>\n",
       "</symbol>\n",
       "<symbol id=\"icon-file-text2\" viewBox=\"0 0 32 32\">\n",
       "<path d=\"M28.681 7.159c-0.694-0.947-1.662-2.053-2.724-3.116s-2.169-2.030-3.116-2.724c-1.612-1.182-2.393-1.319-2.841-1.319h-15.5c-1.378 0-2.5 1.121-2.5 2.5v27c0 1.378 1.122 2.5 2.5 2.5h23c1.378 0 2.5-1.122 2.5-2.5v-19.5c0-0.448-0.137-1.23-1.319-2.841zM24.543 5.457c0.959 0.959 1.712 1.825 2.268 2.543h-4.811v-4.811c0.718 0.556 1.584 1.309 2.543 2.268zM28 29.5c0 0.271-0.229 0.5-0.5 0.5h-23c-0.271 0-0.5-0.229-0.5-0.5v-27c0-0.271 0.229-0.5 0.5-0.5 0 0 15.499-0 15.5 0v7c0 0.552 0.448 1 1 1h7v19.5z\"></path>\n",
       "<path d=\"M23 26h-14c-0.552 0-1-0.448-1-1s0.448-1 1-1h14c0.552 0 1 0.448 1 1s-0.448 1-1 1z\"></path>\n",
       "<path d=\"M23 22h-14c-0.552 0-1-0.448-1-1s0.448-1 1-1h14c0.552 0 1 0.448 1 1s-0.448 1-1 1z\"></path>\n",
       "<path d=\"M23 18h-14c-0.552 0-1-0.448-1-1s0.448-1 1-1h14c0.552 0 1 0.448 1 1s-0.448 1-1 1z\"></path>\n",
       "</symbol>\n",
       "</defs>\n",
       "</svg>\n",
       "<style>/* CSS stylesheet for displaying xarray objects in jupyterlab.\n",
       " *\n",
       " */\n",
       "\n",
       ":root {\n",
       "  --xr-font-color0: var(--jp-content-font-color0, rgba(0, 0, 0, 1));\n",
       "  --xr-font-color2: var(--jp-content-font-color2, rgba(0, 0, 0, 0.54));\n",
       "  --xr-font-color3: var(--jp-content-font-color3, rgba(0, 0, 0, 0.38));\n",
       "  --xr-border-color: var(--jp-border-color2, #e0e0e0);\n",
       "  --xr-disabled-color: var(--jp-layout-color3, #bdbdbd);\n",
       "  --xr-background-color: var(--jp-layout-color0, white);\n",
       "  --xr-background-color-row-even: var(--jp-layout-color1, white);\n",
       "  --xr-background-color-row-odd: var(--jp-layout-color2, #eeeeee);\n",
       "}\n",
       "\n",
       "html[theme=dark],\n",
       "body.vscode-dark {\n",
       "  --xr-font-color0: rgba(255, 255, 255, 1);\n",
       "  --xr-font-color2: rgba(255, 255, 255, 0.54);\n",
       "  --xr-font-color3: rgba(255, 255, 255, 0.38);\n",
       "  --xr-border-color: #1F1F1F;\n",
       "  --xr-disabled-color: #515151;\n",
       "  --xr-background-color: #111111;\n",
       "  --xr-background-color-row-even: #111111;\n",
       "  --xr-background-color-row-odd: #313131;\n",
       "}\n",
       "\n",
       ".xr-wrap {\n",
       "  display: block !important;\n",
       "  min-width: 300px;\n",
       "  max-width: 700px;\n",
       "}\n",
       "\n",
       ".xr-text-repr-fallback {\n",
       "  /* fallback to plain text repr when CSS is not injected (untrusted notebook) */\n",
       "  display: none;\n",
       "}\n",
       "\n",
       ".xr-header {\n",
       "  padding-top: 6px;\n",
       "  padding-bottom: 6px;\n",
       "  margin-bottom: 4px;\n",
       "  border-bottom: solid 1px var(--xr-border-color);\n",
       "}\n",
       "\n",
       ".xr-header > div,\n",
       ".xr-header > ul {\n",
       "  display: inline;\n",
       "  margin-top: 0;\n",
       "  margin-bottom: 0;\n",
       "}\n",
       "\n",
       ".xr-obj-type,\n",
       ".xr-array-name {\n",
       "  margin-left: 2px;\n",
       "  margin-right: 10px;\n",
       "}\n",
       "\n",
       ".xr-obj-type {\n",
       "  color: var(--xr-font-color2);\n",
       "}\n",
       "\n",
       ".xr-sections {\n",
       "  padding-left: 0 !important;\n",
       "  display: grid;\n",
       "  grid-template-columns: 150px auto auto 1fr 20px 20px;\n",
       "}\n",
       "\n",
       ".xr-section-item {\n",
       "  display: contents;\n",
       "}\n",
       "\n",
       ".xr-section-item input {\n",
       "  display: none;\n",
       "}\n",
       "\n",
       ".xr-section-item input + label {\n",
       "  color: var(--xr-disabled-color);\n",
       "}\n",
       "\n",
       ".xr-section-item input:enabled + label {\n",
       "  cursor: pointer;\n",
       "  color: var(--xr-font-color2);\n",
       "}\n",
       "\n",
       ".xr-section-item input:enabled + label:hover {\n",
       "  color: var(--xr-font-color0);\n",
       "}\n",
       "\n",
       ".xr-section-summary {\n",
       "  grid-column: 1;\n",
       "  color: var(--xr-font-color2);\n",
       "  font-weight: 500;\n",
       "}\n",
       "\n",
       ".xr-section-summary > span {\n",
       "  display: inline-block;\n",
       "  padding-left: 0.5em;\n",
       "}\n",
       "\n",
       ".xr-section-summary-in:disabled + label {\n",
       "  color: var(--xr-font-color2);\n",
       "}\n",
       "\n",
       ".xr-section-summary-in + label:before {\n",
       "  display: inline-block;\n",
       "  content: '►';\n",
       "  font-size: 11px;\n",
       "  width: 15px;\n",
       "  text-align: center;\n",
       "}\n",
       "\n",
       ".xr-section-summary-in:disabled + label:before {\n",
       "  color: var(--xr-disabled-color);\n",
       "}\n",
       "\n",
       ".xr-section-summary-in:checked + label:before {\n",
       "  content: '▼';\n",
       "}\n",
       "\n",
       ".xr-section-summary-in:checked + label > span {\n",
       "  display: none;\n",
       "}\n",
       "\n",
       ".xr-section-summary,\n",
       ".xr-section-inline-details {\n",
       "  padding-top: 4px;\n",
       "  padding-bottom: 4px;\n",
       "}\n",
       "\n",
       ".xr-section-inline-details {\n",
       "  grid-column: 2 / -1;\n",
       "}\n",
       "\n",
       ".xr-section-details {\n",
       "  display: none;\n",
       "  grid-column: 1 / -1;\n",
       "  margin-bottom: 5px;\n",
       "}\n",
       "\n",
       ".xr-section-summary-in:checked ~ .xr-section-details {\n",
       "  display: contents;\n",
       "}\n",
       "\n",
       ".xr-array-wrap {\n",
       "  grid-column: 1 / -1;\n",
       "  display: grid;\n",
       "  grid-template-columns: 20px auto;\n",
       "}\n",
       "\n",
       ".xr-array-wrap > label {\n",
       "  grid-column: 1;\n",
       "  vertical-align: top;\n",
       "}\n",
       "\n",
       ".xr-preview {\n",
       "  color: var(--xr-font-color3);\n",
       "}\n",
       "\n",
       ".xr-array-preview,\n",
       ".xr-array-data {\n",
       "  padding: 0 5px !important;\n",
       "  grid-column: 2;\n",
       "}\n",
       "\n",
       ".xr-array-data,\n",
       ".xr-array-in:checked ~ .xr-array-preview {\n",
       "  display: none;\n",
       "}\n",
       "\n",
       ".xr-array-in:checked ~ .xr-array-data,\n",
       ".xr-array-preview {\n",
       "  display: inline-block;\n",
       "}\n",
       "\n",
       ".xr-dim-list {\n",
       "  display: inline-block !important;\n",
       "  list-style: none;\n",
       "  padding: 0 !important;\n",
       "  margin: 0;\n",
       "}\n",
       "\n",
       ".xr-dim-list li {\n",
       "  display: inline-block;\n",
       "  padding: 0;\n",
       "  margin: 0;\n",
       "}\n",
       "\n",
       ".xr-dim-list:before {\n",
       "  content: '(';\n",
       "}\n",
       "\n",
       ".xr-dim-list:after {\n",
       "  content: ')';\n",
       "}\n",
       "\n",
       ".xr-dim-list li:not(:last-child):after {\n",
       "  content: ',';\n",
       "  padding-right: 5px;\n",
       "}\n",
       "\n",
       ".xr-has-index {\n",
       "  font-weight: bold;\n",
       "}\n",
       "\n",
       ".xr-var-list,\n",
       ".xr-var-item {\n",
       "  display: contents;\n",
       "}\n",
       "\n",
       ".xr-var-item > div,\n",
       ".xr-var-item label,\n",
       ".xr-var-item > .xr-var-name span {\n",
       "  background-color: var(--xr-background-color-row-even);\n",
       "  margin-bottom: 0;\n",
       "}\n",
       "\n",
       ".xr-var-item > .xr-var-name:hover span {\n",
       "  padding-right: 5px;\n",
       "}\n",
       "\n",
       ".xr-var-list > li:nth-child(odd) > div,\n",
       ".xr-var-list > li:nth-child(odd) > label,\n",
       ".xr-var-list > li:nth-child(odd) > .xr-var-name span {\n",
       "  background-color: var(--xr-background-color-row-odd);\n",
       "}\n",
       "\n",
       ".xr-var-name {\n",
       "  grid-column: 1;\n",
       "}\n",
       "\n",
       ".xr-var-dims {\n",
       "  grid-column: 2;\n",
       "}\n",
       "\n",
       ".xr-var-dtype {\n",
       "  grid-column: 3;\n",
       "  text-align: right;\n",
       "  color: var(--xr-font-color2);\n",
       "}\n",
       "\n",
       ".xr-var-preview {\n",
       "  grid-column: 4;\n",
       "}\n",
       "\n",
       ".xr-var-name,\n",
       ".xr-var-dims,\n",
       ".xr-var-dtype,\n",
       ".xr-preview,\n",
       ".xr-attrs dt {\n",
       "  white-space: nowrap;\n",
       "  overflow: hidden;\n",
       "  text-overflow: ellipsis;\n",
       "  padding-right: 10px;\n",
       "}\n",
       "\n",
       ".xr-var-name:hover,\n",
       ".xr-var-dims:hover,\n",
       ".xr-var-dtype:hover,\n",
       ".xr-attrs dt:hover {\n",
       "  overflow: visible;\n",
       "  width: auto;\n",
       "  z-index: 1;\n",
       "}\n",
       "\n",
       ".xr-var-attrs,\n",
       ".xr-var-data {\n",
       "  display: none;\n",
       "  background-color: var(--xr-background-color) !important;\n",
       "  padding-bottom: 5px !important;\n",
       "}\n",
       "\n",
       ".xr-var-attrs-in:checked ~ .xr-var-attrs,\n",
       ".xr-var-data-in:checked ~ .xr-var-data {\n",
       "  display: block;\n",
       "}\n",
       "\n",
       ".xr-var-data > table {\n",
       "  float: right;\n",
       "}\n",
       "\n",
       ".xr-var-name span,\n",
       ".xr-var-data,\n",
       ".xr-attrs {\n",
       "  padding-left: 25px !important;\n",
       "}\n",
       "\n",
       ".xr-attrs,\n",
       ".xr-var-attrs,\n",
       ".xr-var-data {\n",
       "  grid-column: 1 / -1;\n",
       "}\n",
       "\n",
       "dl.xr-attrs {\n",
       "  padding: 0;\n",
       "  margin: 0;\n",
       "  display: grid;\n",
       "  grid-template-columns: 125px auto;\n",
       "}\n",
       "\n",
       ".xr-attrs dt,\n",
       ".xr-attrs dd {\n",
       "  padding: 0;\n",
       "  margin: 0;\n",
       "  float: left;\n",
       "  padding-right: 10px;\n",
       "  width: auto;\n",
       "}\n",
       "\n",
       ".xr-attrs dt {\n",
       "  font-weight: normal;\n",
       "  grid-column: 1;\n",
       "}\n",
       "\n",
       ".xr-attrs dt:hover span {\n",
       "  display: inline-block;\n",
       "  background: var(--xr-background-color);\n",
       "  padding-right: 10px;\n",
       "}\n",
       "\n",
       ".xr-attrs dd {\n",
       "  grid-column: 2;\n",
       "  white-space: pre-wrap;\n",
       "  word-break: break-all;\n",
       "}\n",
       "\n",
       ".xr-icon-database,\n",
       ".xr-icon-file-text2 {\n",
       "  display: inline-block;\n",
       "  vertical-align: middle;\n",
       "  width: 1em;\n",
       "  height: 1.5em !important;\n",
       "  stroke-width: 0;\n",
       "  stroke: currentColor;\n",
       "  fill: currentColor;\n",
       "}\n",
       "</style><pre class='xr-text-repr-fallback'>&lt;xarray.Dataset&gt;\n",
       "Dimensions:  (time: 12, plev: 17, lat: 192, lon: 288)\n",
       "Coordinates:\n",
       "  * time     (time) object 2006-12-16 10:30:00 ... 2006-12-16 10:30:00\n",
       "  * plev     (plev) int32 100000 92500 85000 70000 60000 ... 5000 3000 2000 1000\n",
       "  * lat      (lat) float64 -90.0 -89.06 -88.12 -87.17 ... 87.17 88.12 89.06 90.0\n",
       "  * lon      (lon) float64 0.0 1.25 2.5 3.75 5.0 ... 355.0 356.2 357.5 358.8\n",
       "Data variables:\n",
       "    dp       (time, plev, lat, lon) float64 ...\n",
       "Attributes:\n",
       "    creation_date:  Tue Apr  4 19:16:44 MDT 2023\n",
       "    source_file:    kernels/PS.nc\n",
       "    title:          Change in pressure on pressure coordinate</pre><div class='xr-wrap' style='display:none'><div class='xr-header'><div class='xr-obj-type'>xarray.Dataset</div></div><ul class='xr-sections'><li class='xr-section-item'><input id='section-476cc7ea-f68e-43c6-964d-c528b8a5c3ea' class='xr-section-summary-in' type='checkbox' disabled ><label for='section-476cc7ea-f68e-43c6-964d-c528b8a5c3ea' class='xr-section-summary'  title='Expand/collapse section'>Dimensions:</label><div class='xr-section-inline-details'><ul class='xr-dim-list'><li><span class='xr-has-index'>time</span>: 12</li><li><span class='xr-has-index'>plev</span>: 17</li><li><span class='xr-has-index'>lat</span>: 192</li><li><span class='xr-has-index'>lon</span>: 288</li></ul></div><div class='xr-section-details'></div></li><li class='xr-section-item'><input id='section-85ae6637-a17a-4b24-8e1f-8e341fe032da' class='xr-section-summary-in' type='checkbox'  checked><label for='section-85ae6637-a17a-4b24-8e1f-8e341fe032da' class='xr-section-summary' >Coordinates: <span>(4)</span></label><div class='xr-section-inline-details'></div><div class='xr-section-details'><ul class='xr-var-list'><li class='xr-var-item'><div class='xr-var-name'><span class='xr-has-index'>time</span></div><div class='xr-var-dims'>(time)</div><div class='xr-var-dtype'>object</div><div class='xr-var-preview xr-preview'>2006-12-16 10:30:00 ... 2006-12-...</div><input id='attrs-93cd33a1-7a52-4778-a837-e18b58374c05' class='xr-var-attrs-in' type='checkbox' ><label for='attrs-93cd33a1-7a52-4778-a837-e18b58374c05' title='Show/Hide attributes'><svg class='icon xr-icon-file-text2'><use xlink:href='#icon-file-text2'></use></svg></label><input id='data-7d3fedd4-c67f-450a-ba70-610f80b078d1' class='xr-var-data-in' type='checkbox'><label for='data-7d3fedd4-c67f-450a-ba70-610f80b078d1' title='Show/Hide data repr'><svg class='icon xr-icon-database'><use xlink:href='#icon-database'></use></svg></label><div class='xr-var-attrs'><dl class='xr-attrs'><dt><span>long_name :</span></dt><dd>time</dd><dt><span>bounds :</span></dt><dd>time_bnds</dd><dt><span>cell_methods :</span></dt><dd>time: mean</dd></dl></div><div class='xr-var-data'><pre>array([cftime.DatetimeNoLeap(2006, 12, 16, 10, 30, 0, 0, has_year_zero=True),\n",
       "       cftime.DatetimeNoLeap(2006, 12, 14, 22, 30, 0, 0, has_year_zero=True),\n",
       "       cftime.DatetimeNoLeap(2006, 12, 16, 10, 30, 0, 0, has_year_zero=True),\n",
       "       cftime.DatetimeNoLeap(2006, 12, 15, 22, 30, 0, 0, has_year_zero=True),\n",
       "       cftime.DatetimeNoLeap(2006, 12, 16, 10, 30, 0, 0, has_year_zero=True),\n",
       "       cftime.DatetimeNoLeap(2006, 12, 15, 22, 30, 0, 0, has_year_zero=True),\n",
       "       cftime.DatetimeNoLeap(2006, 12, 16, 10, 30, 0, 0, has_year_zero=True),\n",
       "       cftime.DatetimeNoLeap(2006, 12, 16, 10, 30, 0, 0, has_year_zero=True),\n",
       "       cftime.DatetimeNoLeap(2006, 12, 15, 22, 30, 0, 0, has_year_zero=True),\n",
       "       cftime.DatetimeNoLeap(2006, 12, 16, 10, 30, 0, 0, has_year_zero=True),\n",
       "       cftime.DatetimeNoLeap(2006, 12, 15, 22, 30, 0, 0, has_year_zero=True),\n",
       "       cftime.DatetimeNoLeap(2006, 12, 16, 10, 30, 0, 0, has_year_zero=True)],\n",
       "      dtype=object)</pre></div></li><li class='xr-var-item'><div class='xr-var-name'><span class='xr-has-index'>plev</span></div><div class='xr-var-dims'>(plev)</div><div class='xr-var-dtype'>int32</div><div class='xr-var-preview xr-preview'>100000 92500 85000 ... 2000 1000</div><input id='attrs-0289869f-4a55-4c4e-aa8e-36704b9b187e' class='xr-var-attrs-in' type='checkbox' ><label for='attrs-0289869f-4a55-4c4e-aa8e-36704b9b187e' title='Show/Hide attributes'><svg class='icon xr-icon-file-text2'><use xlink:href='#icon-file-text2'></use></svg></label><input id='data-6de5d96c-6380-42ef-9848-aac903141cf4' class='xr-var-data-in' type='checkbox'><label for='data-6de5d96c-6380-42ef-9848-aac903141cf4' title='Show/Hide data repr'><svg class='icon xr-icon-database'><use xlink:href='#icon-database'></use></svg></label><div class='xr-var-attrs'><dl class='xr-attrs'><dt><span>units :</span></dt><dd>Pa</dd><dt><span>positive :</span></dt><dd>down</dd><dt><span>axis :</span></dt><dd>Z</dd><dt><span>longname :</span></dt><dd>pressure</dd><dt><span>standard_name :</span></dt><dd>air_pressure</dd></dl></div><div class='xr-var-data'><pre>array([100000,  92500,  85000,  70000,  60000,  50000,  40000,  30000,  25000,\n",
       "        20000,  15000,  10000,   7000,   5000,   3000,   2000,   1000],\n",
       "      dtype=int32)</pre></div></li><li class='xr-var-item'><div class='xr-var-name'><span class='xr-has-index'>lat</span></div><div class='xr-var-dims'>(lat)</div><div class='xr-var-dtype'>float64</div><div class='xr-var-preview xr-preview'>-90.0 -89.06 -88.12 ... 89.06 90.0</div><input id='attrs-d4d50828-f598-4dd2-97f6-468779f10574' class='xr-var-attrs-in' type='checkbox' ><label for='attrs-d4d50828-f598-4dd2-97f6-468779f10574' title='Show/Hide attributes'><svg class='icon xr-icon-file-text2'><use xlink:href='#icon-file-text2'></use></svg></label><input id='data-4597efed-45d3-4176-941d-d1e4816fdc32' class='xr-var-data-in' type='checkbox'><label for='data-4597efed-45d3-4176-941d-d1e4816fdc32' title='Show/Hide data repr'><svg class='icon xr-icon-database'><use xlink:href='#icon-database'></use></svg></label><div class='xr-var-attrs'><dl class='xr-attrs'><dt><span>units :</span></dt><dd>degrees_north</dd><dt><span>long_name :</span></dt><dd>latitude</dd></dl></div><div class='xr-var-data'><pre>array([-90.      , -89.057592, -88.115183, -87.172775, -86.230366, -85.287958,\n",
       "       -84.34555 , -83.403141, -82.460733, -81.518325, -80.575916, -79.633508,\n",
       "       -78.691099, -77.748691, -76.806283, -75.863874, -74.921466, -73.979058,\n",
       "       -73.036649, -72.094241, -71.151832, -70.209424, -69.267016, -68.324607,\n",
       "       -67.382199, -66.439791, -65.497382, -64.554974, -63.612565, -62.670157,\n",
       "       -61.727749, -60.78534 , -59.842932, -58.900524, -57.958115, -57.015707,\n",
       "       -56.073298, -55.13089 , -54.188482, -53.246073, -52.303665, -51.361257,\n",
       "       -50.418848, -49.47644 , -48.534031, -47.591623, -46.649215, -45.706806,\n",
       "       -44.764398, -43.82199 , -42.879581, -41.937173, -40.994764, -40.052356,\n",
       "       -39.109948, -38.167539, -37.225131, -36.282723, -35.340314, -34.397906,\n",
       "       -33.455497, -32.513089, -31.570681, -30.628272, -29.685864, -28.743455,\n",
       "       -27.801047, -26.858639, -25.91623 , -24.973822, -24.031414, -23.089005,\n",
       "       -22.146597, -21.204188, -20.26178 , -19.319372, -18.376963, -17.434555,\n",
       "       -16.492147, -15.549738, -14.60733 , -13.664921, -12.722513, -11.780105,\n",
       "       -10.837696,  -9.895288,  -8.95288 ,  -8.010471,  -7.068063,  -6.125654,\n",
       "        -5.183246,  -4.240838,  -3.298429,  -2.356021,  -1.413613,  -0.471204,\n",
       "         0.471204,   1.413613,   2.356021,   3.298429,   4.240838,   5.183246,\n",
       "         6.125654,   7.068063,   8.010471,   8.95288 ,   9.895288,  10.837696,\n",
       "        11.780105,  12.722513,  13.664921,  14.60733 ,  15.549738,  16.492147,\n",
       "        17.434555,  18.376963,  19.319372,  20.26178 ,  21.204188,  22.146597,\n",
       "        23.089005,  24.031414,  24.973822,  25.91623 ,  26.858639,  27.801047,\n",
       "        28.743455,  29.685864,  30.628272,  31.570681,  32.513089,  33.455497,\n",
       "        34.397906,  35.340314,  36.282723,  37.225131,  38.167539,  39.109948,\n",
       "        40.052356,  40.994764,  41.937173,  42.879581,  43.82199 ,  44.764398,\n",
       "        45.706806,  46.649215,  47.591623,  48.534031,  49.47644 ,  50.418848,\n",
       "        51.361257,  52.303665,  53.246073,  54.188482,  55.13089 ,  56.073298,\n",
       "        57.015707,  57.958115,  58.900524,  59.842932,  60.78534 ,  61.727749,\n",
       "        62.670157,  63.612565,  64.554974,  65.497382,  66.439791,  67.382199,\n",
       "        68.324607,  69.267016,  70.209424,  71.151832,  72.094241,  73.036649,\n",
       "        73.979058,  74.921466,  75.863874,  76.806283,  77.748691,  78.691099,\n",
       "        79.633508,  80.575916,  81.518325,  82.460733,  83.403141,  84.34555 ,\n",
       "        85.287958,  86.230366,  87.172775,  88.115183,  89.057592,  90.      ])</pre></div></li><li class='xr-var-item'><div class='xr-var-name'><span class='xr-has-index'>lon</span></div><div class='xr-var-dims'>(lon)</div><div class='xr-var-dtype'>float64</div><div class='xr-var-preview xr-preview'>0.0 1.25 2.5 ... 356.2 357.5 358.8</div><input id='attrs-0c1c8dbc-2d87-4642-897e-70e8c3366dbe' class='xr-var-attrs-in' type='checkbox' ><label for='attrs-0c1c8dbc-2d87-4642-897e-70e8c3366dbe' title='Show/Hide attributes'><svg class='icon xr-icon-file-text2'><use xlink:href='#icon-file-text2'></use></svg></label><input id='data-dab74bbf-0898-4a97-956a-d036010fcab9' class='xr-var-data-in' type='checkbox'><label for='data-dab74bbf-0898-4a97-956a-d036010fcab9' title='Show/Hide data repr'><svg class='icon xr-icon-database'><use xlink:href='#icon-database'></use></svg></label><div class='xr-var-attrs'><dl class='xr-attrs'><dt><span>units :</span></dt><dd>degrees_east</dd><dt><span>long_name :</span></dt><dd>longitude</dd></dl></div><div class='xr-var-data'><pre>array([  0.  ,   1.25,   2.5 , ..., 356.25, 357.5 , 358.75])</pre></div></li></ul></div></li><li class='xr-section-item'><input id='section-e140b6e5-7854-418a-93b7-27620d837371' class='xr-section-summary-in' type='checkbox'  checked><label for='section-e140b6e5-7854-418a-93b7-27620d837371' class='xr-section-summary' >Data variables: <span>(1)</span></label><div class='xr-section-inline-details'></div><div class='xr-section-details'><ul class='xr-var-list'><li class='xr-var-item'><div class='xr-var-name'><span>dp</span></div><div class='xr-var-dims'>(time, plev, lat, lon)</div><div class='xr-var-dtype'>float64</div><div class='xr-var-preview xr-preview'>...</div><input id='attrs-47f27abc-2130-4335-9332-ec5e584e77c7' class='xr-var-attrs-in' type='checkbox' ><label for='attrs-47f27abc-2130-4335-9332-ec5e584e77c7' title='Show/Hide attributes'><svg class='icon xr-icon-file-text2'><use xlink:href='#icon-file-text2'></use></svg></label><input id='data-4277e34a-a28e-4059-bc9e-9104d3f04d85' class='xr-var-data-in' type='checkbox'><label for='data-4277e34a-a28e-4059-bc9e-9104d3f04d85' title='Show/Hide data repr'><svg class='icon xr-icon-database'><use xlink:href='#icon-database'></use></svg></label><div class='xr-var-attrs'><dl class='xr-attrs'><dt><span>standard_name :</span></dt><dd>pressure difference</dd><dt><span>longname :</span></dt><dd>pressure difference</dd><dt><span>axis :</span></dt><dd>Z</dd><dt><span>positive :</span></dt><dd>down</dd><dt><span>units :</span></dt><dd>Pa</dd></dl></div><div class='xr-var-data'><pre>[11280384 values with dtype=float64]</pre></div></li></ul></div></li><li class='xr-section-item'><input id='section-4e6920fa-6299-443c-b4b7-dd2b54c668ff' class='xr-section-summary-in' type='checkbox'  checked><label for='section-4e6920fa-6299-443c-b4b7-dd2b54c668ff' class='xr-section-summary' >Attributes: <span>(3)</span></label><div class='xr-section-inline-details'></div><div class='xr-section-details'><dl class='xr-attrs'><dt><span>creation_date :</span></dt><dd>Tue Apr  4 19:16:44 MDT 2023</dd><dt><span>source_file :</span></dt><dd>kernels/PS.nc</dd><dt><span>title :</span></dt><dd>Change in pressure on pressure coordinate</dd></dl></div></li></ul></div></div>"
      ],
      "text/plain": [
       "<xarray.Dataset>\n",
       "Dimensions:  (time: 12, plev: 17, lat: 192, lon: 288)\n",
       "Coordinates:\n",
       "  * time     (time) object 2006-12-16 10:30:00 ... 2006-12-16 10:30:00\n",
       "  * plev     (plev) int32 100000 92500 85000 70000 60000 ... 5000 3000 2000 1000\n",
       "  * lat      (lat) float64 -90.0 -89.06 -88.12 -87.17 ... 87.17 88.12 89.06 90.0\n",
       "  * lon      (lon) float64 0.0 1.25 2.5 3.75 5.0 ... 355.0 356.2 357.5 358.8\n",
       "Data variables:\n",
       "    dp       (time, plev, lat, lon) float64 ...\n",
       "Attributes:\n",
       "    creation_date:  Tue Apr  4 19:16:44 MDT 2023\n",
       "    source_file:    kernels/PS.nc\n",
       "    title:          Change in pressure on pressure coordinate"
      ]
     },
     "execution_count": 10,
     "metadata": {},
     "output_type": "execute_result"
    }
   ],
   "source": [
    "pdiff"
   ]
  },
  {
   "cell_type": "code",
   "execution_count": 11,
   "id": "06c788d3-64df-45c4-ba5d-e2ebfbc8a655",
   "metadata": {},
   "outputs": [],
   "source": [
    "## add some variables to file that seem to not change\n",
    "## note: pdiffs are constant because they are diff between \n",
    "## the native kernels and the CMIP5 standard levels\n",
    "base_regrid['plev'] = base_regrid.lev_p * 100\n",
    "base_regrid['gw'] = ('lat', gw.values)\n",
    "base_regrid['pdiff'] = (['time','lev_p','lat','lon'], pdiff.dp.values)\n",
    "\n",
    "## note that pdiff is the same for the changefields\n",
    "diff_regrid['plev'] = diff_regrid.lev_p * 100\n",
    "diff_regrid['gw'] = ('lat', gw.values)\n",
    "diff_regrid['pdiff'] = (['time','lev_p','lat','lon'], pdiff.dp.values)"
   ]
  },
  {
   "cell_type": "code",
   "execution_count": 12,
   "id": "280bdf67-c1d6-4a46-b6a4-10e45267c55d",
   "metadata": {},
   "outputs": [],
   "source": [
    "## OLD VERSION: Save these files\n",
    "# ## save data into correct directory\n",
    "# # finaldir = '/glade/work/vcooper/kernels/cam5-kernels/'\n",
    "# finaldir = '/glade/work/vcooper/kernels/2023_cam5/cam5-kernels/'\n",
    "# fname = 'basefields.plev.nc'\n",
    "# base_regrid.to_netcdf(finaldir + fname)\n",
    "# fname = 'changefields.plev.nc'\n",
    "# diff_regrid.to_netcdf(finaldir + fname)\n",
    "\n",
    "# ## save here too since 2D variables use this file\n",
    "# # finaldir = '/glade/work/vcooper/kernels/cam5-kernels/demodata/'\n",
    "# finaldir = '/glade/work/vcooper/kernels/2023_cam5/cam5-kernels/demodata/'\n",
    "# fname = 'basefields.nc'\n",
    "# base_regrid.to_netcdf(finaldir + fname)\n",
    "# fname = 'changefields.nc'\n",
    "# diff_regrid.to_netcdf(finaldir + fname)\n",
    "# print('done')"
   ]
  },
  {
   "cell_type": "markdown",
   "id": "d44e8e36-ab0f-4e9b-8514-8bfe8815e674",
   "metadata": {},
   "source": [
    "# Calculate all feedbacks\n",
    "- This portion is adapted from Pendergrass scripts"
   ]
  },
  {
   "cell_type": "code",
   "execution_count": 13,
   "id": "10b701eb-3c0e-46e5-98c7-66b25308e791",
   "metadata": {},
   "outputs": [],
   "source": [
    "# File with the changes in climate: (ts, temp) (TS,T,Q)\n",
    "varlist2d = ['ts','gw','FSNS', 'FSDS', 'FSNT']\n",
    "\n",
    "# changefile=xr.open_dataset('./demodata/changefields.nc')[varlist2d]\n",
    "# changefile3d=xr.open_dataset('./changefields.plev.nc')\n",
    "# basefile=xr.open_dataset('./demodata/basefields.nc')[varlist2d]\n",
    "# basefile3d=xr.open_dataset('./basefields.plev.nc')\n",
    "\n",
    "changefile=diff_regrid#[varlist2d]\n",
    "changefile3d=diff_regrid\n",
    "basefile=base_regrid#[varlist2d]\n",
    "basefile3d=base_regrid\n",
    "\n",
    "\n",
    "###################\n",
    "\n",
    "## Read air temperature kernel \n",
    "# ta_kernel_hybrid=ncread('kernels/t.kernel.nc','FLNT');\n",
    "ta_kernel=xr.open_dataset('t.kernel.plev.nc')\n",
    "\n",
    "## VTC add section to read in pressure levels\n",
    "p_Pa=ta_kernel.plev\n",
    "p_hPa=ta_kernel.lev_p \n",
    "\n",
    "## this must be generated by calcdp_plev.ncl script\n",
    "pdiff=xr.open_dataset('dp_plev.nc').dp/100\n",
    "\n",
    "# p=repmat(permute(repmat(p_hPa,[1 12]),[3 4 1 2]),[288 192 1 1]);\n",
    "p = p_hPa.values[np.newaxis, :, np.newaxis, np.newaxis] * np.ones(ta_kernel.FLNT.shape)"
   ]
  },
  {
   "cell_type": "code",
   "execution_count": 14,
   "id": "d68817b2-e5ce-48cb-b110-fd496b180c61",
   "metadata": {},
   "outputs": [
    {
     "name": "stdout",
     "output_type": "stream",
     "text": [
      "Global mean dTS:  -4.224239359571119\n"
     ]
    }
   ],
   "source": [
    "###################\n",
    "\n",
    "## Read in coordinate info\n",
    "lat=xr.open_dataset('./kernels/PS.nc').lat\n",
    "lon=xr.open_dataset('./kernels/PS.nc').lon\n",
    "gw=xr.open_dataset('./kernels/t.kernel.nc').gw ## Gaussian weights for CESMgrid\n",
    "# lev=ncread('kernels/t.kernel.nc','lev'); ## dont need\n",
    "\n",
    "## Make an area weighting matrix\n",
    "weight=np.tile(gw.values[:,np.newaxis], len(lon))\n",
    "weight=weight/np.nansum(weight)\n",
    "# print(weight.sum())\n",
    "\n",
    "## Read surface temperature change\n",
    "dts=changefile.ts\n",
    "\n",
    "## Calculate the change in global mean surface temperature\n",
    "dts_globalmean= (dts * weight).sum(dim=('lat','lon')).mean(dim='time')\n",
    "print('Global mean dTS: ', dts_globalmean.values)\n",
    "                 "
   ]
  },
  {
   "cell_type": "code",
   "execution_count": 15,
   "id": "b9d40cd8-0daf-4044-b32c-91b7a0620725",
   "metadata": {},
   "outputs": [],
   "source": [
    "## Temperature feedback calculation\n",
    "\n",
    "## Read TOA Longwave surface temperature kernel\n",
    "ts_kernel=xr.open_dataset('./kernels/ts.kernel.nc').FLNT\n",
    "\n",
    "## Multiply monthly mean TS change by the TS kernels (function of\n",
    "## lat, lon, month) (units W/m2)\n",
    "dLW_ts=ts_kernel *dts\n",
    "#dLW_ts.mean(dim='time').plot()\n",
    "\n",
    "## Read air temperature change [lon,lat,level,month]\n",
    "dta=changefile3d.temp\n"
   ]
  },
  {
   "cell_type": "code",
   "execution_count": 16,
   "id": "a56a6ea5-da8b-471d-abb3-2fe14123d43e",
   "metadata": {},
   "outputs": [],
   "source": [
    "## Non-pressure level version:\n",
    "## Read midpoint pressure for each grid cell (lat,lon,level,month), [Pa]\n",
    "## VTC adjusted this above to be pressure levels\n",
    "## p=ncread('p_sigma.nc','pmid')/100; %[hPa] "
   ]
  },
  {
   "cell_type": "code",
   "execution_count": 17,
   "id": "142a8743-02e6-4adf-b742-e8a551c48dfe",
   "metadata": {},
   "outputs": [],
   "source": [
    "## Crude tropopause estimate: 100 hPa in the tropics, lowering with\n",
    "## cosine to 300 hPa at the poles.\n",
    "x=np.cos(np.deg2rad(lat))\n",
    "p_tropopause_zonalmean=300-200*x\n",
    "## VTC\n",
    "##p_tropopause= ...\n",
    "##    repmat(permute(repmat(permute(repmat(p_tropopause_zonalmean', ...\n",
    "##                                         [length(lon) 1]),[1 2 3]),[1 ...\n",
    "##                    1 length(lev)]),[1 2 3 4]),[1 1 1 12]);\n",
    "p_tropopause_zonalmean\n",
    "p_tropopause = p_tropopause_zonalmean.values[\n",
    "    np.newaxis, np.newaxis,:, np.newaxis] * np.ones(ta_kernel.FLNT.shape)\n",
    "p_tropopause = xr.DataArray(p_tropopause,dims=changefile3d.dims, coords = changefile3d.coords)"
   ]
  },
  {
   "cell_type": "code",
   "execution_count": 18,
   "id": "b5fe4ec8-e757-4e66-982d-1aad55aedee9",
   "metadata": {},
   "outputs": [],
   "source": [
    "## Set the temperature change to zero in the stratosphere (mask out stratosphere)\n",
    "dta=xr.where(p>=p_tropopause, dta, np.nan)\n",
    "\n",
    "## Convolve air temperature kernel with air temperature change\n",
    "## VTC\n",
    "## dLW_ta=squeeze(sum(ta_kernel.*dta,3));\n",
    "dLW_ta=ta_kernel.FLNT * dta.values * pdiff.values"
   ]
  },
  {
   "cell_type": "code",
   "execution_count": 19,
   "id": "f170202b-5f94-47c2-82ba-44edde62e89d",
   "metadata": {},
   "outputs": [
    {
     "name": "stdout",
     "output_type": "stream",
     "text": [
      "Temperature feedback:  -3.1530739651180153  W m^-2 K^-1\n"
     ]
    }
   ],
   "source": [
    "## Add the surface and air temperature response; Take the annual\n",
    "## average and global area average \n",
    "dLW_t_globalmean = -(\n",
    "    (dLW_ta.sum(dim='plev') + dLW_ts).mean(dim='time') * weight).sum()\n",
    "\n",
    "## Divide by the global annual mean surface warming (units: W/m2/K)\n",
    "t_feedback=dLW_t_globalmean / dts_globalmean\n",
    "\n",
    "print('Temperature feedback: ', str(t_feedback.values), ' W m^-2 K^-1')"
   ]
  },
  {
   "cell_type": "markdown",
   "id": "a6158e64-600e-4794-b70f-01d230e30276",
   "metadata": {},
   "source": [
    "# Albedo Feedback"
   ]
  },
  {
   "cell_type": "code",
   "execution_count": 20,
   "id": "2a3c7d8d-11c2-45dd-bb96-3f5910a90942",
   "metadata": {},
   "outputs": [],
   "source": [
    "## Collect surface shortwave radiation fields to calculate albedo.\n",
    "## Alternatively, you might already have the change in albedo - that\n",
    "## would work too.\n",
    "SW_sfc_net_1=basefile.FSNS\n",
    "SW_sfc_down_1=basefile.FSDS\n",
    "SW_sfc_net_2=changefile.FSNS+SW_sfc_net_1\n",
    "SW_sfc_down_2=changefile.FSDS+SW_sfc_down_1\n",
    "\n",
    "alb1= 1 - SW_sfc_net_1/SW_sfc_down_1\n",
    "alb1 = xr.where(np.isnan(alb1), 0, alb1)\n",
    "\n",
    "alb2= 1 - SW_sfc_net_2/SW_sfc_down_2\n",
    "alb2 = xr.where(np.isnan(alb2), 0, alb2)\n",
    "\n",
    "dalb=(alb2-alb1)*100\n",
    "\n",
    "alb_kernel = xr.open_dataset('./kernels/alb.kernel.nc').FSNT\n",
    "dSW_alb = alb_kernel * dalb\n"
   ]
  },
  {
   "cell_type": "code",
   "execution_count": 21,
   "id": "d495c0a3-5043-41c5-b824-8866871ff13b",
   "metadata": {},
   "outputs": [
    {
     "name": "stdout",
     "output_type": "stream",
     "text": [
      "Surf. albedo feedback:  0.5166022198586437  W m^-2 K^-1\n"
     ]
    }
   ],
   "source": [
    "## average and global area average \n",
    "dSW_alb_globalmean = (dSW_alb.mean(dim='time') * weight).sum()\n",
    "alb_feedback = dSW_alb_globalmean / dts_globalmean\n",
    "\n",
    "print('Surf. albedo feedback: ', str(alb_feedback.values), ' W m^-2 K^-1')"
   ]
  },
  {
   "cell_type": "markdown",
   "id": "fb89b8fd-a57b-4287-a830-3769434f82fb",
   "metadata": {},
   "source": [
    "# Water vapor feedback"
   ]
  },
  {
   "cell_type": "code",
   "execution_count": 22,
   "id": "e5542f5a-21e0-418b-9db9-bba7387097a0",
   "metadata": {},
   "outputs": [],
   "source": [
    "## Calculate the change in moisture per degree warming at constant relative humidity. \n",
    "q1=basefile3d.Q\n",
    "t1=basefile3d.temp"
   ]
  },
  {
   "cell_type": "code",
   "execution_count": 23,
   "id": "c4c6768b-71f1-45ec-9037-948df4ca7e1f",
   "metadata": {},
   "outputs": [],
   "source": [
    "## addpath scripts/\n",
    "## VTC script for\n",
    "def calcsatspechum(t_in, p_in):\n",
    "    ## T is temperature, P is pressure in hPa \n",
    "\n",
    "    ## Formulae from Buck (1981):\n",
    "    es = (1.0007+(3.46e-6 * p_in)) * 6.1121 * (\n",
    "        np.exp(17.502*(t_in - 273.15) / (240.97+(t_in - 273.15))))\n",
    "    \n",
    "    wsl = 0.622 * es / (p_in - es) ## saturation mixing ratio wrt liquid water (g/kg)\n",
    "    \n",
    "    es = (1.0003 + ( 4.18e-6 * p_in)) * 6.1115 * (\n",
    "        np.exp(22.452 * (t_in - 273.15) / (272.55 + (t_in - 273.15))))\n",
    "    \n",
    "    wsi = 0.622 * es / (p - es) ## saturation mixing ratio wrt ice (g/kg)\n",
    "    \n",
    "    ws = wsl\n",
    "    \n",
    "    ws = xr.where(t_in < 273.15, wsi, ws)\n",
    "    \n",
    "    qs = ws / (1+ws) ## saturation specific humidity, g/kg\n",
    "    return(qs)\n"
   ]
  },
  {
   "cell_type": "code",
   "execution_count": 24,
   "id": "045917fe-908b-4a8a-a0ac-bdd675dde1b5",
   "metadata": {},
   "outputs": [],
   "source": [
    "qs1 = calcsatspechum(t1,p) #g/kg\n",
    "qs2 = calcsatspechum(t1+dta,p) #g/kg\n",
    "dqsdt = (qs2 - qs1) / dta\n",
    "rh = q1 / qs1\n",
    "dqdt = rh * dqsdt\n",
    "\n",
    "## Read kernels\n",
    "q_LW_kernel = xr.open_dataset('q.kernel.plev.nc').FLNT\n",
    "q_SW_kernel = xr.open_dataset('q.kernel.plev.nc').FSNT\n",
    "\n",
    "## Normalize kernels by the change in moisture for 1 K warming at\n",
    "## constant RH\n",
    "q_LW_kernel = q_LW_kernel.values / dqdt;\n",
    "q_SW_kernel = q_SW_kernel.values / dqdt;\n",
    "\n",
    "## Read the change in moisture\n",
    "dq = changefile3d.Q"
   ]
  },
  {
   "cell_type": "code",
   "execution_count": 25,
   "id": "3a991db9-ef10-4047-a5f5-f8c80a459806",
   "metadata": {},
   "outputs": [],
   "source": [
    "## Set the moisture change to zero in the stratosphere (mask out stratosphere)\n",
    "dq = xr.where(p>=p_tropopause, dq, np.nan)"
   ]
  },
  {
   "cell_type": "code",
   "execution_count": 26,
   "id": "acb5602c-389c-4601-b4f4-3e2f7508de12",
   "metadata": {},
   "outputs": [],
   "source": [
    "## Convolve moisture kernel with change in moisture\n",
    "dLW_q = q_LW_kernel * dq.values * pdiff.values\n",
    "dSW_q = q_SW_kernel * dq.values * pdiff.values"
   ]
  },
  {
   "cell_type": "code",
   "execution_count": 27,
   "id": "019e7782-1d61-4209-ae55-b85346979ede",
   "metadata": {},
   "outputs": [
    {
     "name": "stdout",
     "output_type": "stream",
     "text": [
      "Water vapor feedback:  1.3140729639589164  W m^-2 K^-1\n"
     ]
    }
   ],
   "source": [
    "## Add the LW and SW responses. Note the sign convention difference\n",
    "## between LW and SW!\n",
    "dR_q_globalmean = (\n",
    "    (-dLW_q + dSW_q).sum(dim='lev_p').mean(dim='time') * weight).sum()\n",
    "\n",
    "## Divide by the global annual mean surface warming (units: W/m2/K)\n",
    "q_feedback = dR_q_globalmean / dts_globalmean\n",
    "\n",
    "print('Water vapor feedback: ', str(q_feedback.values), ' W m^-2 K^-1')\n",
    "\n"
   ]
  },
  {
   "cell_type": "markdown",
   "id": "1e170365-4d51-49da-98b7-91e1cd99cae3",
   "metadata": {},
   "source": [
    "# WV with log of Q"
   ]
  },
  {
   "cell_type": "code",
   "execution_count": 28,
   "id": "9c288cf5-73fc-47ee-aa52-42f612425b1b",
   "metadata": {},
   "outputs": [],
   "source": [
    "## Calculate the change in moisture per degree warming at constant relative humidity. \n",
    "## Run the accompanying NCL script with your input files, or\n",
    "## implement here.                                                             "
   ]
  },
  {
   "cell_type": "code",
   "execution_count": 29,
   "id": "85895680-f147-4717-a2af-2f4d8a22c203",
   "metadata": {},
   "outputs": [],
   "source": [
    "q0 = q1 ## AP used q1 for this above #basefile3d.Q #kg/kg \n",
    "\n",
    "## all of these are set above\n",
    "#t1 = basefile3d.temp set above\n",
    "#dta = changefile3d.temp ## set above\n",
    "#qs1 = calcsatspechum(t1,p); % g/kg\n",
    "#qs2 = calcsatspechum(t1+dta,p); % g/kg\n",
    "#dqsdt = (qs2 - qs1)./dta;\n",
    "\n",
    "## slightly different from above\n",
    "rh = 1000*q0 / qs1\n",
    "dqdt = rh * dqsdt ## assume constant RH\n",
    "dlogqdt= dqdt / (1000 * q0) ## convert denominator to g/kg\n",
    "\n",
    "## Re-read kernels, \n",
    "## normalize by the change in moisture for 1 K warming at\n",
    "## constant RH using log Q\n",
    "q_LW_kernel = xr.open_dataset('q.kernel.plev.nc').FLNT.values\n",
    "logq_LW_kernel = q_LW_kernel / dlogqdt\n",
    "q_SW_kernel = xr.open_dataset('q.kernel.plev.nc').FSNT.values\n",
    "logq_SW_kernel = q_SW_kernel / dlogqdt"
   ]
  },
  {
   "cell_type": "code",
   "execution_count": 30,
   "id": "d38c6d5f-d9cb-4d4b-82cb-ddc503010d9a",
   "metadata": {},
   "outputs": [],
   "source": [
    "## all set above\n",
    "## Read the change in moisture\n",
    "## dq=ncread(changefile3d,'Q');\n",
    "## Mask out the stratosphere\n",
    "##dq=dq.*(p>=p_tropopause);\n",
    "\n",
    "dlogq = dq / q0\n"
   ]
  },
  {
   "cell_type": "code",
   "execution_count": 31,
   "id": "c7eff973-c8f5-446a-b610-f726bcd9d6e0",
   "metadata": {},
   "outputs": [
    {
     "name": "stdout",
     "output_type": "stream",
     "text": [
      "logQ WV feedback:  1.3140729639589164  W m^-2 K^-1\n",
      "linQ WV feedback:  1.3140729639589164  W m^-2 K^-1\n"
     ]
    }
   ],
   "source": [
    "## Convolve moisture kernel with change in moisture\n",
    "dLW_logq = logq_LW_kernel.values * dlogq * pdiff.values\n",
    "dSW_logq = logq_SW_kernel.values * dlogq * pdiff.values\n",
    "\n",
    "## Add the LW and SW responses. \n",
    "## Note the sign convention difference LW and SW\n",
    "dR_logq_globalmean = (\n",
    "    (-dLW_logq + dSW_logq).sum(dim='lev_p').mean(dim='time') * weight).sum()\n",
    "\n",
    "## Divide by the global annual mean surface warming (units: W/m2/K)\n",
    "logq_feedback = dR_logq_globalmean / dts_globalmean\n",
    "\n",
    "print('logQ WV feedback: ', str(logq_feedback.values), ' W m^-2 K^-1')\n",
    "print('linQ WV feedback: ', str(q_feedback.values), ' W m^-2 K^-1')"
   ]
  },
  {
   "cell_type": "markdown",
   "id": "226734df-d2e5-4612-bd1a-ef30eccf5488",
   "metadata": {},
   "source": [
    "# Planck Feedback"
   ]
  },
  {
   "cell_type": "code",
   "execution_count": 32,
   "id": "4a3af5e9-5073-4c79-b5e9-b46a5e0be24d",
   "metadata": {},
   "outputs": [],
   "source": [
    "## Project surface temperature change into height \n",
    "##VTC\n",
    "##dts3d=repmat(permute(dts,[1 2 4 3]),[1 1 30 1]);\n",
    "dts3d = dts + changefile3d.temp-changefile3d.temp\n",
    "\n",
    "## Mask stratosphere\n",
    "dt_planck = xr.where(p>=p_tropopause, dts3d, np.nan)\n"
   ]
  },
  {
   "cell_type": "code",
   "execution_count": 33,
   "id": "a186c8aa-c26a-4584-9424-b3616ded2d4b",
   "metadata": {},
   "outputs": [],
   "source": [
    "## Convolve air temperature kernel with 3-d surface air temp change\n",
    "##VTC\n",
    "##dLW_planck=squeeze(sum(ta_kernel_hybrid.*dt_planck,3));\n",
    "# dLW_planck = squeeze(sum(ta_kernel * dt_planck.*pdiff,3))\n",
    "dLW_planck=ta_kernel.FLNT * dt_planck.values * pdiff.values\n",
    "\n",
    "## Take the annual average and global area average; incorporate the\n",
    "## part due to surface temperature change itself \n",
    "dLW_planck_globalmean = -(\n",
    "    (dLW_planck.sum(dim='plev') + dLW_ts).mean(dim='time') * weight).sum()\n",
    "\n",
    "## Divide by the global annual mean surface warming (units: W/m2/K)\n",
    "planck_feedback=dLW_planck_globalmean / dts_globalmean\n"
   ]
  },
  {
   "cell_type": "code",
   "execution_count": 34,
   "id": "123c2c29-0f90-4057-874b-a7d775ef1987",
   "metadata": {},
   "outputs": [
    {
     "name": "stdout",
     "output_type": "stream",
     "text": [
      "Planck feedback:  -3.2079333515340798  W m^-2 K^-1\n",
      "Lapse rate feedback:  0.054859386416064984  W m^-2 K^-1\n",
      "Temperature feedback:  -3.1530739651180153  W m^-2 K^-1\n",
      "Planck+lapse rate components:  -3.153073965118015  W m^-2 K^-1\n"
     ]
    }
   ],
   "source": [
    "## Lapse rate feedback                                                                                                                                                                 \n",
    "## Calculate the departure of temperature change from the surface\n",
    "## temperature change\n",
    "dt_lapserate=xr.where(p>=p_tropopause, dta-dt_planck, np.nan)\n",
    "\n",
    "## Convolve air temperature kernel with 3-d surface air temp change\n",
    "## VTC\n",
    "## dLW_lapserate=squeeze(sum(ta_kernel.*dt_lapserate,3));\n",
    "# dLW_lapserate=squeeze(sum(ta_kernel.*dt_lapserate.*pdiff,3));\n",
    "dLW_lapserate = ta_kernel.FLNT * dt_lapserate.values * pdiff.values\n",
    "\n",
    "## Take the annual average and global area average \n",
    "dLW_lapserate_globalmean = -(\n",
    "    (dLW_lapserate.sum(dim='plev')).mean(dim='time') * weight).sum()\n",
    "\n",
    "## Divide by the global annual mean surface warming (units: W/m2/K)\n",
    "lapserate_feedback = dLW_lapserate_globalmean / dts_globalmean\n",
    "\n",
    "print('Planck feedback: ', \n",
    "      str(planck_feedback.values), ' W m^-2 K^-1')\n",
    "print('Lapse rate feedback: ', \n",
    "      str(lapserate_feedback.values), ' W m^-2 K^-1')\n",
    "\n",
    "### SANITY CHECK: Do the Planck and lapse-rate feedbacks add up to\n",
    "### the total temperature feedback? (They should)\n",
    "\n",
    "## Planck + lapse rate feedback\n",
    "total_t_feedback = planck_feedback+lapserate_feedback\n",
    "\n",
    "print('Temperature feedback: ',\n",
    "      str(t_feedback.values), ' W m^-2 K^-1')\n",
    "print('Planck+lapse rate components: ',\n",
    "      str(total_t_feedback.values), ' W m^-2 K^-1')\n"
   ]
  },
  {
   "cell_type": "code",
   "execution_count": null,
   "id": "be3f3336-b743-461b-a99e-cf3728ebd506",
   "metadata": {},
   "outputs": [],
   "source": []
  },
  {
   "cell_type": "markdown",
   "id": "7fbb45fd-b2e8-45f9-ba18-44e276145304",
   "metadata": {},
   "source": [
    "## Cloud Feedback"
   ]
  },
  {
   "cell_type": "code",
   "execution_count": 35,
   "id": "eceb0e8d-607e-43f5-90ea-fade22243eef",
   "metadata": {},
   "outputs": [],
   "source": [
    "## STEP 1. Calculate total-sky and clear-sky feedbacks\n",
    "lev = ta_kernel.plev.values ## this is in Pa"
   ]
  },
  {
   "cell_type": "code",
   "execution_count": 36,
   "id": "5e38a0e1-9726-4c4e-b3ea-81d67a7cb71c",
   "metadata": {},
   "outputs": [],
   "source": [
    "## Read TOA Longwave surface temperature kernel\n",
    "ts_kernel_clearsky = xr.open_dataset('./kernels/ts.kernel.nc').FLNTC\n",
    "\n",
    "## Multiply monthly mean TS change by the TS kernels \n",
    "## (function of lat, lon, month) (units W/m2)\n",
    "dLW_ts_cs = ts_kernel_clearsky * dts \n",
    "\n",
    "## Read clear-sky air temperature kernel\n",
    "ta_kernel_clearsky = xr.open_dataset('./t.kernel.plev.nc').FLNTC\n",
    "\n",
    "## Convolve air temperature kernel with air temperature change\n",
    "dLW_ta = dLW_ta.sum(dim='plev')\n",
    "dLW_ta_cs = (ta_kernel_clearsky.values * dta * pdiff.values).sum(dim='lev_p')"
   ]
  },
  {
   "cell_type": "code",
   "execution_count": 37,
   "id": "ed6f01e6-aeb9-4be1-99f9-e7e403965248",
   "metadata": {},
   "outputs": [],
   "source": [
    "## ALBEDO clear sky\n",
    "\n",
    "## Read TOA albedo kernel\n",
    "alb_kernel_clearsky = xr.open_dataset('./kernels/alb.kernel.nc').FSNTC\n",
    "\n",
    "dSW_alb_cs = alb_kernel_clearsky.values * dalb"
   ]
  },
  {
   "cell_type": "code",
   "execution_count": 38,
   "id": "a62ef1f3-1ec6-40e2-b44c-0991ed4dfff5",
   "metadata": {},
   "outputs": [],
   "source": [
    "## WATER VAPOR clear sky\n",
    "\n",
    "## read kernels\n",
    "q_LW_kernel = xr.open_dataset('./q.kernel.plev.nc').FLNT\n",
    "q_SW_kernel = xr.open_dataset('./q.kernel.plev.nc').FSNT\n",
    "q_LW_kernel_clearsky = xr.open_dataset('./q.kernel.plev.nc').FLNTC\n",
    "q_SW_kernel_clearsky = xr.open_dataset('./q.kernel.plev.nc').FSNTC\n",
    "\n",
    "## Normalize kernels by the change in moisture for 1 K warming at\n",
    "## constant RH (linear)\n",
    "rh = q1 / qs1\n",
    "dqdt = rh * dqsdt ## from above, reset to linear method\n",
    "q_LW_kernel = q_LW_kernel.values / dqdt\n",
    "q_SW_kernel = q_SW_kernel.values / dqdt\n",
    "q_LW_kernel_clearsky = q_LW_kernel_clearsky.values / dqdt\n",
    "q_SW_kernel_clearsky = q_SW_kernel_clearsky.values / dqdt\n",
    "\n",
    "## Convolve moisture kernel with change in moisture\n",
    "dLW_q = (q_LW_kernel.values * dq * pdiff.values).sum(dim='lev_p')\n",
    "dSW_q = (q_SW_kernel.values * dq * pdiff.values).sum(dim='lev_p')\n",
    "dLW_q_cs = (q_LW_kernel_clearsky.values * dq * pdiff.values).sum(dim='lev_p')\n",
    "dSW_q_cs = (q_SW_kernel_clearsky.values * dq * pdiff.values).sum(dim='lev_p')"
   ]
  },
  {
   "cell_type": "code",
   "execution_count": 39,
   "id": "110f3090-ad1f-4d8c-85f4-e00eb0d1037d",
   "metadata": {},
   "outputs": [],
   "source": [
    "### Change in Cloud Radiative Effect (CRE) \n",
    "d_sw = changefile3d.FSNT\n",
    "d_sw_cs = changefile3d.FSNTC\n",
    "d_lw = changefile3d.FLNT\n",
    "d_lw_cs = changefile3d.FLNTC\n",
    "\n",
    "d_cre_sw = d_sw_cs - d_sw\n",
    "d_cre_lw = d_lw_cs - d_lw\n"
   ]
  },
  {
   "cell_type": "code",
   "execution_count": 40,
   "id": "403eaeae-0c2e-434e-979f-6cdb342b85d8",
   "metadata": {},
   "outputs": [],
   "source": [
    "## THIS WOULD NEED TO BE ADJUSTED\n",
    "### Cloud masking of radiative forcing\n",
    "ghgfile = './forcing/ghg.forcing.nc'\n",
    "sw = xr.open_dataset(ghgfile).FSNT\n",
    "sw_cs = xr.open_dataset(ghgfile).FSNTC\n",
    "lw = xr.open_dataset(ghgfile).FLNT\n",
    "lw_cs = xr.open_dataset(ghgfile).FLNTC\n",
    "ghg_sw = sw_cs-sw\n",
    "ghg_lw = lw_cs-lw\n",
    "\n",
    "aerosolfile = './forcing/aerosol.forcing.nc';\n",
    "sw = xr.open_dataset(aerosolfile).FSNT\n",
    "sw_cs = xr.open_dataset(aerosolfile).FSNTC\n",
    "lw = xr.open_dataset(aerosolfile).FLNT\n",
    "lw_cs = xr.open_dataset(aerosolfile).FLNTC\n",
    "aerosol_sw = sw_cs - sw\n",
    "aerosol_lw = lw_cs - lw\n",
    "\n",
    "## MAKE FORCING ZERO because there is no forcing in these experiments\n",
    "cloud_masking_of_forcing_sw = 0 # aerosol_sw + ghg_sw\n",
    "cloud_masking_of_forcing_lw = 0 # aerosol_lw + ghg_lw\n"
   ]
  },
  {
   "cell_type": "code",
   "execution_count": 41,
   "id": "8f129e91-32d2-43ad-8b73-91ae17a1a26e",
   "metadata": {},
   "outputs": [],
   "source": [
    "### Cloud feedback\n",
    "### CRE + cloud masking of radiative forcing + corrections for each feedback\n",
    "\n",
    "dLW_cloud = -d_cre_lw + cloud_masking_of_forcing_lw + (\n",
    "    dLW_q_cs - dLW_q.values) + (dLW_ta_cs - dLW_ta.values) + (dLW_ts_cs - dLW_ts)\n",
    "dSW_cloud = -d_cre_sw + cloud_masking_of_forcing_sw + (\n",
    "    dSW_q_cs - dSW_q.values) + (dSW_alb_cs-dSW_alb)\n"
   ]
  },
  {
   "cell_type": "code",
   "execution_count": 42,
   "id": "ff6c4752-4ac7-44dc-b5a8-03093d65f250",
   "metadata": {},
   "outputs": [],
   "source": [
    "# ## LW CLOUD\n",
    "# height=[ \n",
    "#             (-d_cre_lw.mean(dim='time') * weight).sum(),\n",
    "#             (cloud_masking_of_forcing_lw.mean(dim='time') * weight).sum(),\n",
    "#             ((dLW_q_cs - dLW_q.values).mean(dim='time') * weight).sum(),\n",
    "#             ((dLW_ta_cs - dLW_ta.values).mean(dim='time') * weight).sum(),\n",
    "#             ((dLW_ts_cs - dLW_ts).mean(dim='time') * weight).sum(),\n",
    "#             (dLW_cloud.mean(dim='time') * weight).sum(),\n",
    "#             ]\n",
    "# plt.bar(x=np.arange(len(height)),\n",
    "#         height=height)\n",
    "# plt.show()\n",
    "\n",
    "\n",
    "# ## SW Cloud\n",
    "# height=[ \n",
    "#             (-d_cre_sw.mean(dim='time') * weight).sum(),\n",
    "#             (cloud_masking_of_forcing_sw.mean(dim='time') * weight).sum(),\n",
    "#             ((dSW_q_cs - dSW_q.values).mean(dim='time') * weight).sum(),\n",
    "#             ((dSW_alb_cs - dSW_alb.values).mean(dim='time') * weight).sum(),\n",
    "#             (dSW_cloud.mean(dim='time') * weight).sum(),\n",
    "#             ]\n",
    "# plt.bar(x=np.arange(len(height)),\n",
    "#         height=height)"
   ]
  },
  {
   "cell_type": "code",
   "execution_count": 43,
   "id": "a5611710-7736-4b19-8892-5f5f036cc706",
   "metadata": {},
   "outputs": [
    {
     "name": "stdout",
     "output_type": "stream",
     "text": [
      "LW Cloud feedback:  0.2194385924650693  W m^-2 K^-1\n",
      "SW Cloud feedback:  0.5139111261261101  W m^-2 K^-1\n"
     ]
    }
   ],
   "source": [
    "## Take global and annual averages\n",
    "dLW_cloud_globalmean = (-dLW_cloud.mean(dim='time') * weight).sum()\n",
    "dSW_cloud_globalmean = ( dSW_cloud.mean(dim='time') * weight).sum()\n",
    "\n",
    "## Divide by global, annual mean temperature change to get W/m2/K\n",
    "lw_cloud_feedback = dLW_cloud_globalmean / dts_globalmean\n",
    "sw_cloud_feedback = dSW_cloud_globalmean / dts_globalmean\n",
    "\n",
    "print('LW Cloud feedback: ',\n",
    "      str(lw_cloud_feedback.values), ' W m^-2 K^-1')\n",
    "print('SW Cloud feedback: ',\n",
    "      str(sw_cloud_feedback.values), ' W m^-2 K^-1')"
   ]
  },
  {
   "cell_type": "markdown",
   "id": "c0547615-5629-4cc7-97d0-859d5600c30f",
   "metadata": {},
   "source": [
    "# All Feedbacks"
   ]
  },
  {
   "cell_type": "code",
   "execution_count": 44,
   "id": "d0edc58b-3b18-43cb-b4c3-de4dee94cc31",
   "metadata": {},
   "outputs": [
    {
     "name": "stdout",
     "output_type": "stream",
     "text": [
      "Planck feedback:  -3.2079333515340798  W m^-2 K^-1\n",
      "Lapse rate feedback:  0.054859386416064984  W m^-2 K^-1\n",
      "Water vapor feedback:  1.3140729639589164  W m^-2 K^-1\n",
      "Surf. albedo feedback:  0.5166022198586437  W m^-2 K^-1\n",
      "LW Cloud feedback:  0.2194385924650693  W m^-2 K^-1\n",
      "SW Cloud feedback:  0.5139111261261101  W m^-2 K^-1\n",
      "\n",
      "\n",
      "Sum all feedbacks:  -0.5890490627092753  W m^-2 K^-1\n",
      "\n",
      "\n",
      "Temperature feedback:  -3.1530739651180153  W m^-2 K^-1\n",
      "Planck+lapse rate components:  -3.153073965118015  W m^-2 K^-1\n",
      "\n",
      "\n",
      "logQ WV feedback:  1.3140729639589164  W m^-2 K^-1\n",
      "linQ WV feedback:  1.3140729639589164  W m^-2 K^-1\n"
     ]
    }
   ],
   "source": [
    "print('Planck feedback: ', \n",
    "      str(planck_feedback.values), ' W m^-2 K^-1')\n",
    "print('Lapse rate feedback: ', \n",
    "      str(lapserate_feedback.values), ' W m^-2 K^-1')\n",
    "print('Water vapor feedback: ', \n",
    "      str(q_feedback.values), ' W m^-2 K^-1')\n",
    "print('Surf. albedo feedback: ', \n",
    "      str(alb_feedback.values), ' W m^-2 K^-1')\n",
    "print('LW Cloud feedback: ',\n",
    "      str(lw_cloud_feedback.values), ' W m^-2 K^-1')\n",
    "print('SW Cloud feedback: ',\n",
    "      str(sw_cloud_feedback.values), ' W m^-2 K^-1')\n",
    "\n",
    "sumall = planck_feedback + lapserate_feedback + q_feedback + alb_feedback + (\n",
    "    lw_cloud_feedback + sw_cloud_feedback)\n",
    "print('\\n\\nSum all feedbacks: ',\n",
    "      str(sumall.values), ' W m^-2 K^-1')\n",
    "\n",
    "## extras\n",
    "print('\\n\\nTemperature feedback: ',\n",
    "      str(t_feedback.values), ' W m^-2 K^-1')\n",
    "print('Planck+lapse rate components: ',\n",
    "      str(total_t_feedback.values), ' W m^-2 K^-1')\n",
    "\n",
    "print('\\n\\nlogQ WV feedback: ', str(logq_feedback.values), ' W m^-2 K^-1')\n",
    "print('linQ WV feedback: ', str(q_feedback.values), ' W m^-2 K^-1')"
   ]
  },
  {
   "cell_type": "code",
   "execution_count": 45,
   "id": "429b7276-a5c9-468f-a4ae-562527b139f7",
   "metadata": {},
   "outputs": [
    {
     "data": {
      "text/plain": [
       "array([-3.20793335,  0.05485939,  1.31407296,  0.51660222,  0.21943859,\n",
       "        0.51391113])"
      ]
     },
     "execution_count": 45,
     "metadata": {},
     "output_type": "execute_result"
    }
   ],
   "source": [
    "np.array([planck_feedback,\n",
    "          lapserate_feedback,\n",
    "          q_feedback,\n",
    "          alb_feedback,\n",
    "          lw_cloud_feedback,\n",
    "          sw_cloud_feedback])"
   ]
  },
  {
   "cell_type": "code",
   "execution_count": 46,
   "id": "9a3413bf-ba6a-43f8-8fd9-566c7ca2e438",
   "metadata": {},
   "outputs": [
    {
     "name": "stdout",
     "output_type": "stream",
     "text": [
      "/glade/work/vcooper/kernels/2023_cam5/cam5-kernels\n"
     ]
    }
   ],
   "source": [
    "!pwd -P"
   ]
  },
  {
   "cell_type": "code",
   "execution_count": null,
   "id": "e18a9bd9-2943-4ae9-858e-f37cfb1e235b",
   "metadata": {},
   "outputs": [],
   "source": []
  }
 ],
 "metadata": {
  "kernelspec": {
   "display_name": "Python [conda env:miniconda3-plato]",
   "language": "python",
   "name": "conda-env-miniconda3-plato-py"
  },
  "language_info": {
   "codemirror_mode": {
    "name": "ipython",
    "version": 3
   },
   "file_extension": ".py",
   "mimetype": "text/x-python",
   "name": "python",
   "nbconvert_exporter": "python",
   "pygments_lexer": "ipython3",
   "version": "3.8.13"
  }
 },
 "nbformat": 4,
 "nbformat_minor": 5
}

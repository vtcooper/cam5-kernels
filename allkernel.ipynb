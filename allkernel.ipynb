{
 "cells": [
  {
   "cell_type": "markdown",
   "id": "d64422f9-304c-4bb1-a16a-1133f4dd2c91",
   "metadata": {},
   "source": [
    "# Python version of radiative kernels\n",
    "V. Cooper (2023)\n",
    "- 0) Before running, make timeseries on std pressure levels\n",
    "- 1) Compute climatology\n",
    "- 2) Horizontal regridding\n",
    "- 3) Feedback calcs converted from Pendergrass public scripts"
   ]
  },
  {
   "cell_type": "markdown",
   "id": "59e7745e-396a-4d10-9fce-d273d51a213d",
   "metadata": {},
   "source": [
    "Before running these scripts, postprocess the 3D fields into \n",
    "timeseries that are on pressure levels (not hybrid-sigma levels as \n",
    "in the native output). After timeseries files are prepared, they can\n",
    "be loaded here to make a climatology, regrid onto kernel grid, then compute feedbacks."
   ]
  },
  {
   "cell_type": "markdown",
   "id": "bc8cd39b-7c33-42ba-92a9-7ec4f8409ee3",
   "metadata": {},
   "source": [
    "Note: if changing the pressure levels from CMIP to something else,\n",
    "- don't run \"ncl scripts/calcp.ncl\"\n",
    "- run \"ncl tools/calcdp_plev.ncl\"\n",
    "- run \"ncl tools/t_kernel_to_plev.ncl\"\n",
    "- run \"ncl tools/q_kernel_to_plev.ncl\"\n",
    "\n",
    "Note: the following 2 scripts are replaced by the timeseries creation, \n",
    "which already puts fields on pressure levels. No need to do these:\n",
    "- don't run \"ncl tools/convert_base_to_plevs.ncl\"\n",
    "- don't run \"ncl tools/convert_change_to_plevs.ncl\""
   ]
  },
  {
   "cell_type": "code",
   "execution_count": 1,
   "id": "45e7b503-2b79-4f3d-ae2f-8a23c5d452b6",
   "metadata": {},
   "outputs": [],
   "source": [
    "# import warnings\n",
    "# warnings.filterwarnings('ignore')\n",
    "\n",
    "import numpy as np\n",
    "import matplotlib as mpl\n",
    "import matplotlib.pyplot as plt\n",
    "import xarray as xr\n",
    "# import xesmf as xe\n",
    "import cartopy.crs as ccrs\n",
    "import cartopy.feature as cfeature\n",
    "import copy\n",
    "import pandas as pd\n",
    "import cmocean as cmo\n",
    "from cartopy.util import add_cyclic_point\n",
    "import seaborn as sns\n",
    "%matplotlib inline\n",
    "\n",
    "import xesmf as xe"
   ]
  },
  {
   "cell_type": "markdown",
   "id": "1d6733af-f46b-4e2d-bac2-f74b904edf26",
   "metadata": {},
   "source": [
    "# Compute climatology"
   ]
  },
  {
   "cell_type": "code",
   "execution_count": 2,
   "id": "f4de0a30-3210-4791-bb9c-d0ab27bff2c7",
   "metadata": {},
   "outputs": [],
   "source": [
    "## these are the dummy files for format and grid matching\n",
    "path = './'\n",
    "\n",
    "## these are demodata, will be replaced later after we match\n",
    "## the file formatting\n",
    "basefields = xr.open_dataset(path +'demodata/'+ 'basefields.nc~')\n",
    "changefields = xr.open_dataset(path +'demodata/'+ 'changefields.nc~')\n",
    "PSdemo = xr.open_dataset(path + 'kernels/PS.nc')\n",
    "pdiff = xr.open_dataset(path + 'dp_plev.nc')\n",
    "gw = xr.open_dataset(path +'kernels/'+ 't.kernel.nc').gw\n",
    "\n",
    "varlist = ['FSDS','FSNS','Q','T','FLNS',\n",
    "           'FLNSC','FLNT','FLNTC','FSNSC',\n",
    "           'FSNT','FSNTC','PS'] #'TS' will be loaded by default\n",
    "## WATCH OUT YOU ACTUALLY NEED FSDSC for clear-sky linearity test"
   ]
  },
  {
   "cell_type": "markdown",
   "id": "cd765c33-6436-4dd8-8fd3-c2225b70d555",
   "metadata": {},
   "source": [
    "### Select cases here"
   ]
  },
  {
   "cell_type": "code",
   "execution_count": 3,
   "id": "e5447e31-88f5-4773-942a-84eb1ebf12cc",
   "metadata": {},
   "outputs": [],
   "source": [
    "path = '/glade/scratch/vcooper/processed/'\n",
    "\n",
    "External_switch = True ## False for CAM, True for GFDL\n",
    "strat_mask = False  ## True is default which masks stratosphere changes\n",
    "cs_linearity_test = True ## True only if doing clear-sky linearity test\n",
    "\n",
    "## SELECT BASECASE\n",
    "basecase = 'f2000climo_f19_f19_holo_3_23_23' ## CAM6\n",
    "\n",
    "# basecase = 'f.e1221.F_2000_CAM5.f19_f19.LGMRholo.002' ## CAM5\n",
    "\n",
    "# basecase = 'f.e1221.F_2000.f19_f19.LGMRholo.002' ## CAM4\n",
    "#basecase = 'f.e1221.F_2000.f19_f19.LGMRholo.003' ## CAM4 v3\n",
    "\n",
    "## SELECT CHANGECASE\n",
    "# case = 'f2000climo_f19_f19_2xco2by05_05'\n",
    "# case = 'f2000climo_f19_f19_2xc02_05'\n",
    "case = 'f2000climo_f19_f19_pattern_05'\n",
    "# case = 'f2000climo_f19_f19_LGMRby05_05'\n",
    "\n",
    "# case = 'f.e1221.F_2000_CAM5.f19_f19.longrunmip-0p5.002'\n",
    "# case = 'f.e1221.F_2000_CAM5.f19_f19.longrunmip.002'\n",
    "# case = 'f.e1221.F_2000_CAM5.f19_f19.LGMR-0p5.002'\n",
    "# case = 'f.e1221.F_2000_CAM5.f19_f19.LGMRlgm.001'\n",
    "# case = 'f.e1221.F_2000_CAM5.f19_f19.lgmDA.002'\n",
    "# case = 'f.e1221.F_2000_CAM5.f19_f19.lgmDA-0p5.002'\n",
    "# case = 'f.e1221.F_2000_CAM5.f19_f19.amrhein.002.1'\n",
    "# case = 'f.e1221.F_2000_CAM5.f19_f19.amrhein-0p5.002'\n",
    "# case = 'f.e1221.F_2000_CAM5.f19_f19.annan-seasbyamr.002.1'\n",
    "# case = 'f.e1221.F_2000_CAM5.f19_f19.annan-0p5.002'\n",
    "\n",
    "# case = 'f.e1221.F_2000.f19_f19.longrunmip-0p5.002'\n",
    "# case = 'f.e1221.F_2000.f19_f19.longrunmip2x.002'\n",
    "# case = 'f.e1221.F_2000.f19_f19.LGMR-0p5.002'\n",
    "# case = 'f.e1221.F_2000.f19_f19.LGMRlgm.001'\n",
    "# case = 'f.e1221.F_2000.f19_f19.lgmDA.002'\n",
    "# case = 'f.e1221.F_2000.f19_f19.lgmDA-0p5.002'\n",
    "# case = 'f.e1221.F_2000.f19_f19.amrhein.002.1'\n",
    "# case = 'f.e1221.F_2000.f19_f19.amrhein-0p5.002'\n",
    "# case = 'f.e1221.F_2000.f19_f19.annan-seasbyamr.002.1'\n",
    "# case = 'f.e1221.F_2000.f19_f19.annan-0p5.002'\n",
    "\n",
    "changecase = case"
   ]
  },
  {
   "cell_type": "code",
   "execution_count": 4,
   "id": "5e7dc81f-029e-4f3f-a4ff-ba5126c94113",
   "metadata": {},
   "outputs": [],
   "source": [
    "## load in the full timeseries\n",
    "fname = basecase + '.cam.h0.tseries_interp.nc'\n",
    "basecam_out = xr.open_dataset(path + basecase +'/'+fname)\n",
    "fname = case + '.cam.h0.tseries_interp.nc'\n",
    "cam_out = xr.open_dataset(path + case +'/'+fname)"
   ]
  },
  {
   "cell_type": "code",
   "execution_count": 5,
   "id": "dde69144-fe7f-4b6e-a729-e52e60ff62a8",
   "metadata": {},
   "outputs": [],
   "source": [
    "## TEMPORARY FSDSC FIX (this variable was not originally included)\n",
    "tpath = '/glade/scratch/vcooper/archive/' + case + '/atm/proc/tseries/month_1/'\n",
    "fname = case + '.cam.h0.FSDSC.000101-003012.nc'\n",
    "FSDSC = xr.open_dataset(tpath + fname).sel(\n",
    "    time=slice('0006-01-02','0031-01-01')).FSDSC\n",
    "cam_out['FSDSC'] = (['time','lat','lon'], FSDSC.values)\n",
    "\n",
    "tpath = '/glade/scratch/vcooper/archive/' + basecase + '/atm/proc/tseries/month_1/'\n",
    "fname = basecase + '.cam.h0.FSDSC.000101-003012.nc'\n",
    "baseFSDSC = xr.open_dataset(tpath + fname).sel(\n",
    "    time=slice('0006-01-02','0031-01-01')).FSDSC\n",
    "basecam_out['FSDSC'] = (['time','lat','lon'], baseFSDSC.values)"
   ]
  },
  {
   "cell_type": "code",
   "execution_count": 6,
   "id": "f87562b4-92f7-44f0-a35e-f4264b32ccbf",
   "metadata": {},
   "outputs": [],
   "source": [
    "## this is stupid code to fix the months\n",
    "init_bound = np.array(xr.cftime_range(start=\"0006\", periods=1, freq=\"MS\", calendar=\"noleap\")[0])\n",
    "dumtime = np.hstack([init_bound,cam_out.time.values])\n",
    "newtime = dumtime[0:-1]\n",
    "cam_out['time'] = newtime\n",
    "basecam_out['time'] = newtime\n",
    "\n",
    "cam_climo = cam_out#.groupby('time.month').mean()\n",
    "basecam_climo = basecam_out#.groupby('time.month').mean()\n",
    "\n",
    "if External_switch == False:\n",
    "    cam_climo = cam_out.groupby('time.month').mean()\n",
    "    basecam_climo = basecam_out.groupby('time.month').mean()"
   ]
  },
  {
   "cell_type": "code",
   "execution_count": 7,
   "id": "4d4f369b-ff88-4731-bf5f-f8074ca26454",
   "metadata": {},
   "outputs": [],
   "source": [
    "## OLD VERSION: save these files (not necessary anymore)\n",
    "# path = '/glade/scratch/vcooper/processed/'\n",
    "# savename = case + '.cam.h0.climo.nc'\n",
    "# cam_climo.to_netcdf(path + case + '/' + savename)\n",
    "# print('finished save of ', savename)"
   ]
  },
  {
   "cell_type": "code",
   "execution_count": 8,
   "id": "cbc143a8-9dba-4f42-93d0-eee894bde171",
   "metadata": {},
   "outputs": [],
   "source": [
    "### Change some fields to match demodata\n",
    "if External_switch == False:\n",
    "    basecase = basecam_climo.rename(\n",
    "        {'month':'time','T':'temp','TS':'ts','lev':'lev_p'})\n",
    "\n",
    "    changecase = cam_climo.rename(\n",
    "        {'month':'time','T':'temp','TS':'ts','lev':'lev_p'})"
   ]
  },
  {
   "cell_type": "markdown",
   "id": "87675f9e-73e0-4579-ba8f-77b3d9d76dba",
   "metadata": {},
   "source": [
    "# Option to replace CAM data with external model"
   ]
  },
  {
   "cell_type": "code",
   "execution_count": 9,
   "id": "e9eb0c3b-03b6-4f0d-a6c9-e23bc4626e92",
   "metadata": {},
   "outputs": [],
   "source": [
    "if External_switch == True:\n",
    "    ## GFDL\n",
    "    path = '/glade/scratch/vcooper/processed/'\n",
    "\n",
    "    ## already in climatology form\n",
    "    basecase = xr.open_dataset(path + 'gfdl_holo/gfdl_holo.nc').rename(\n",
    "            {'T':'temp','TS':'ts','lev':'lev_p','swdn_sfc_clr':'FSDSC'})\n",
    "\n",
    "    changecase = xr.open_dataset(path + 'gfdl_2xCO2/gfdl_2xCO2.nc').rename(\n",
    "            {'T':'temp','TS':'ts','lev':'lev_p','swdn_sfc_clr':'FSDSC'})\n",
    "    # changecase = xr.open_dataset(path + 'gfdl_lgm/gfdl_lgm.nc').rename(\n",
    "    #         {'T':'temp','TS':'ts','lev':'lev_p','swdn_sfc_clr':'FSDSC'})\n",
    "    \n",
    "    ## shortcut to select only the kernel CMIP pressure levels\n",
    "    basecase = basecase.sel(lev_p=pdiff.plev.values/100)\n",
    "    changecase = changecase.sel(lev_p=pdiff.plev.values/100)"
   ]
  },
  {
   "cell_type": "markdown",
   "id": "681ab58e-081f-4c6e-bcc6-90c16a790a33",
   "metadata": {
    "tags": []
   },
   "source": [
    "# Regrid horizontal fields to match kernel 1 degree resolution"
   ]
  },
  {
   "cell_type": "code",
   "execution_count": 10,
   "id": "69da9626-fb49-4e04-84ac-41ed04ddd4a4",
   "metadata": {},
   "outputs": [],
   "source": [
    "diff = changecase - basecase"
   ]
  },
  {
   "cell_type": "code",
   "execution_count": 11,
   "id": "0076a611-8656-4b06-8878-bce9807316da",
   "metadata": {},
   "outputs": [],
   "source": [
    "## xesmf issue with date and datesec, avoiding it here:\n",
    "regridvars = ['temp',\n",
    "                         # 'date',\n",
    "                         # 'datesec',\n",
    "                         'Q',\n",
    "                         'PS',\n",
    "                         'ts',\n",
    "                         'FSDS',\n",
    "                         'FSNS',\n",
    "                         'FLNS',\n",
    "                         'FLNSC',\n",
    "                         'FLNT',\n",
    "                         'FLNTC',\n",
    "                         'FSNSC',\n",
    "                         'FSNT',\n",
    "                         'FSNTC']\n",
    "\n",
    "if (cs_linearity_test == True):\n",
    "    regridvars = np.append(regridvars, 'FSDSC')"
   ]
  },
  {
   "cell_type": "code",
   "execution_count": 12,
   "id": "f8ec9aac-292a-492b-839a-20de75e79a1e",
   "metadata": {},
   "outputs": [
    {
     "name": "stdout",
     "output_type": "stream",
     "text": [
      "Reuse existing file: external_regrid_wts.nc\n",
      "using dimensions ('lat', 'lon') from data variable temp as the horizontal dimensions for this dataset.\n"
     ]
    },
    {
     "name": "stderr",
     "output_type": "stream",
     "text": [
      "/glade/u/home/vcooper/miniconda3/envs/plato/lib/python3.8/site-packages/xesmf/frontend.py:477: FutureWarning: ``output_sizes`` should be given in the ``dask_gufunc_kwargs`` parameter. It will be removed as direct parameter in a future version.\n",
      "  ds_out = xr.apply_ufunc(\n"
     ]
    },
    {
     "name": "stdout",
     "output_type": "stream",
     "text": [
      "using dimensions ('lat', 'lon') from data variable temp as the horizontal dimensions for this dataset.\n"
     ]
    }
   ],
   "source": [
    "newgrid = basefields.ts[0].to_dataset()\n",
    "newgrid = basefields\n",
    "\n",
    "data_for_regridding = basecase.ts[0].to_dataset()\n",
    "data_for_regridding = basecase\n",
    "\n",
    "if External_switch == False:\n",
    "    filename_wts = 'bilinear_2deg_to_1deg.nc'\n",
    "else:\n",
    "    filename_wts = 'external_regrid_wts.nc'\n",
    "\n",
    "regridder = xe.Regridder(data_for_regridding, newgrid,\n",
    "                         method='bilinear',\n",
    "                         periodic=True,\n",
    "                         # extrap_method='inverse_dist',extrap_num_src_pnts=8,\n",
    "                         filename=filename_wts,\n",
    "                         reuse_weights=True)\n",
    "\n",
    "base_regrid = regridder(basecase[regridvars])\n",
    "diff_regrid = regridder(diff[regridvars])\n",
    "\n",
    "## avoiding xesmf issue\n",
    "if External_switch == False:\n",
    "    base_regrid['date'] = basecase['date']\n",
    "    base_regrid['datesec'] = basecase['datesec']\n",
    "\n",
    "    diff_regrid['date'] = diff['date']\n",
    "    diff_regrid['datesec'] = diff['datesec']"
   ]
  },
  {
   "cell_type": "code",
   "execution_count": 13,
   "id": "06c788d3-64df-45c4-ba5d-e2ebfbc8a655",
   "metadata": {},
   "outputs": [],
   "source": [
    "## add some variables to file that seem to not change\n",
    "## note: pdiffs are constant because they are diff between \n",
    "## the native kernels and the CMIP5 standard levels\n",
    "base_regrid['plev'] = base_regrid.lev_p * 100\n",
    "base_regrid['gw'] = ('lat', gw.values)\n",
    "base_regrid['pdiff'] = (['time','lev_p','lat','lon'], pdiff.dp.values)\n",
    "\n",
    "## note that pdiff is the same for the changefields\n",
    "diff_regrid['plev'] = diff_regrid.lev_p * 100\n",
    "diff_regrid['gw'] = ('lat', gw.values)\n",
    "diff_regrid['pdiff'] = (['time','lev_p','lat','lon'], pdiff.dp.values)"
   ]
  },
  {
   "cell_type": "code",
   "execution_count": 14,
   "id": "280bdf67-c1d6-4a46-b6a4-10e45267c55d",
   "metadata": {},
   "outputs": [],
   "source": [
    "## OLD VERSION: Save these files\n",
    "# ## save data into correct directory\n",
    "# # finaldir = '/glade/work/vcooper/kernels/cam5-kernels/'\n",
    "# finaldir = '/glade/work/vcooper/kernels/2023_cam5/cam5-kernels/'\n",
    "# fname = 'basefields.plev.nc'\n",
    "# base_regrid.to_netcdf(finaldir + fname)\n",
    "# fname = 'changefields.plev.nc'\n",
    "# diff_regrid.to_netcdf(finaldir + fname)\n",
    "\n",
    "# ## save here too since 2D variables use this file\n",
    "# # finaldir = '/glade/work/vcooper/kernels/cam5-kernels/demodata/'\n",
    "# finaldir = '/glade/work/vcooper/kernels/2023_cam5/cam5-kernels/demodata/'\n",
    "# fname = 'basefields.nc'\n",
    "# base_regrid.to_netcdf(finaldir + fname)\n",
    "# fname = 'changefields.nc'\n",
    "# diff_regrid.to_netcdf(finaldir + fname)\n",
    "# print('done')"
   ]
  },
  {
   "cell_type": "code",
   "execution_count": 15,
   "id": "7e19e256-3d3a-4174-a5ff-edd67977a17b",
   "metadata": {},
   "outputs": [],
   "source": [
    "## option to calculate only clear-sky\n",
    "## accomplished by making all-sky fields equal the clear-sky fields\n",
    "if (cs_linearity_test == True):\n",
    "    diff_regrid['FLNT'] = diff_regrid['FLNTC']\n",
    "    diff_regrid['FSNT'] = diff_regrid['FSNTC']\n",
    "    diff_regrid['FLNS'] = diff_regrid['FLNSC']\n",
    "    diff_regrid['FSNS'] = diff_regrid['FSNSC']\n",
    "    \n",
    "    base_regrid['FLNT'] = base_regrid['FLNTC']\n",
    "    base_regrid['FSNT'] = base_regrid['FSNTC']\n",
    "    base_regrid['FLNS'] = base_regrid['FLNSC']\n",
    "    base_regrid['FSNS'] = base_regrid['FSNSC']\n",
    "    \n",
    "    diff_regrid['FSDS'] = diff_regrid['FSDSC']\n",
    "    base_regrid['FSDS'] = base_regrid['FSDSC']"
   ]
  },
  {
   "cell_type": "markdown",
   "id": "d44e8e36-ab0f-4e9b-8514-8bfe8815e674",
   "metadata": {},
   "source": [
    "# Calculate all feedbacks\n",
    "- This portion is adapted from Pendergrass scripts"
   ]
  },
  {
   "cell_type": "code",
   "execution_count": 16,
   "id": "10b701eb-3c0e-46e5-98c7-66b25308e791",
   "metadata": {},
   "outputs": [],
   "source": [
    "# File with the changes in climate: (ts, temp) (TS,T,Q)\n",
    "varlist2d = ['ts','gw','FSNS', 'FSDS', 'FSNT']\n",
    "\n",
    "# changefile=xr.open_dataset('./demodata/changefields.nc')[varlist2d]\n",
    "# changefile3d=xr.open_dataset('./changefields.plev.nc')\n",
    "# basefile=xr.open_dataset('./demodata/basefields.nc')[varlist2d]\n",
    "# basefile3d=xr.open_dataset('./basefields.plev.nc')\n",
    "\n",
    "changefile=diff_regrid#[varlist2d]\n",
    "changefile3d=diff_regrid\n",
    "basefile=base_regrid#[varlist2d]\n",
    "basefile3d=base_regrid\n",
    "\n",
    "\n",
    "###################\n",
    "\n",
    "## Read air temperature kernel \n",
    "# ta_kernel_hybrid=ncread('kernels/t.kernel.nc','FLNT');\n",
    "ta_kernel=xr.open_dataset('t.kernel.plev.nc')\n",
    "\n",
    "## VTC add section to read in pressure levels\n",
    "p_Pa=ta_kernel.plev\n",
    "p_hPa=ta_kernel.lev_p \n",
    "\n",
    "## this must be generated by calcdp_plev.ncl script\n",
    "pdiff=xr.open_dataset('dp_plev.nc').dp/100\n",
    "\n",
    "# p=repmat(permute(repmat(p_hPa,[1 12]),[3 4 1 2]),[288 192 1 1]);\n",
    "p = p_hPa.values[np.newaxis, :, np.newaxis, np.newaxis] * np.ones(ta_kernel.FLNT.shape)"
   ]
  },
  {
   "cell_type": "code",
   "execution_count": 17,
   "id": "d68817b2-e5ce-48cb-b110-fd496b180c61",
   "metadata": {},
   "outputs": [
    {
     "name": "stdout",
     "output_type": "stream",
     "text": [
      "Global mean dTS:  3.2050318807014033\n"
     ]
    }
   ],
   "source": [
    "###################\n",
    "\n",
    "## Read in coordinate info\n",
    "lat=xr.open_dataset('./kernels/PS.nc').lat\n",
    "lon=xr.open_dataset('./kernels/PS.nc').lon\n",
    "gw=xr.open_dataset('./kernels/t.kernel.nc').gw ## Gaussian weights for CESMgrid\n",
    "# lev=ncread('kernels/t.kernel.nc','lev'); ## dont need\n",
    "\n",
    "## Make an area weighting matrix\n",
    "weight=np.tile(gw.values[:,np.newaxis], len(lon))\n",
    "weight=weight/np.nansum(weight)\n",
    "# print(weight.sum())\n",
    "\n",
    "## Read surface temperature change\n",
    "dts=changefile.ts\n",
    "\n",
    "## Calculate the change in global mean surface temperature\n",
    "dts_globalmean= (dts * weight).sum(dim=('lat','lon')).mean(dim='time')\n",
    "print('Global mean dTS: ', dts_globalmean.values)\n",
    "                 "
   ]
  },
  {
   "cell_type": "code",
   "execution_count": 18,
   "id": "b9d40cd8-0daf-4044-b32c-91b7a0620725",
   "metadata": {},
   "outputs": [],
   "source": [
    "## Temperature feedback calculation\n",
    "\n",
    "## Read TOA Longwave surface temperature kernel\n",
    "ts_kernel=xr.open_dataset('./kernels/ts.kernel.nc').FLNT\n",
    "if (cs_linearity_test == True):\n",
    "    ts_kernel=xr.open_dataset('./kernels/ts.kernel.nc').FLNTC\n",
    "\n",
    "## Multiply monthly mean TS change by the TS kernels (function of\n",
    "## lat, lon, month) (units W/m2)\n",
    "dLW_ts=ts_kernel * dts\n",
    "#dLW_ts.mean(dim='time').plot()\n",
    "\n",
    "## Read air temperature change [lon,lat,level,month]\n",
    "dta=changefile3d.temp\n"
   ]
  },
  {
   "cell_type": "code",
   "execution_count": 19,
   "id": "a56a6ea5-da8b-471d-abb3-2fe14123d43e",
   "metadata": {},
   "outputs": [],
   "source": [
    "## Non-pressure level version:\n",
    "## Read midpoint pressure for each grid cell (lat,lon,level,month), [Pa]\n",
    "## VTC adjusted this above to be pressure levels\n",
    "## p=ncread('p_sigma.nc','pmid')/100; %[hPa] "
   ]
  },
  {
   "cell_type": "code",
   "execution_count": 20,
   "id": "142a8743-02e6-4adf-b742-e8a551c48dfe",
   "metadata": {},
   "outputs": [],
   "source": [
    "## Crude tropopause estimate: 100 hPa in the tropics, lowering with\n",
    "## cosine to 300 hPa at the poles.\n",
    "x=np.cos(np.deg2rad(lat))\n",
    "p_tropopause_zonalmean=300-200*x\n",
    "## VTC\n",
    "##p_tropopause= ...\n",
    "##    repmat(permute(repmat(permute(repmat(p_tropopause_zonalmean', ...\n",
    "##                                         [length(lon) 1]),[1 2 3]),[1 ...\n",
    "##                    1 length(lev)]),[1 2 3 4]),[1 1 1 12]);\n",
    "p_tropopause = p_tropopause_zonalmean.values[\n",
    "    np.newaxis, np.newaxis,:, np.newaxis] * np.ones(ta_kernel.FLNT.shape)\n",
    "p_tropopause = xr.DataArray(p_tropopause,dims=changefile3d.dims, coords = changefile3d.coords)\n",
    "\n",
    "if (strat_mask == False):\n",
    "    ## True is default, but for cases with no forcing,\n",
    "    ## maybe we don't want to mask these bc they are part of feedback\n",
    "    ## make tropopause be at 0 hPa so that nothing is masked\n",
    "    p_tropopause -= p_tropopause"
   ]
  },
  {
   "cell_type": "code",
   "execution_count": 21,
   "id": "b5fe4ec8-e757-4e66-982d-1aad55aedee9",
   "metadata": {},
   "outputs": [],
   "source": [
    "## Set the temperature change to zero in the stratosphere (mask out stratosphere)\n",
    "dta=xr.where(p>=p_tropopause, dta, np.nan)\n",
    "\n",
    "## Convolve air temperature kernel with air temperature change\n",
    "## VTC\n",
    "## dLW_ta=squeeze(sum(ta_kernel.*dta,3));\n",
    "dLW_ta=ta_kernel.FLNT * dta.values * pdiff.values\n",
    "if (cs_linearity_test == True):\n",
    "    dLW_ta=ta_kernel.FLNTC * dta.values * pdiff.values"
   ]
  },
  {
   "cell_type": "code",
   "execution_count": 22,
   "id": "f170202b-5f94-47c2-82ba-44edde62e89d",
   "metadata": {},
   "outputs": [
    {
     "name": "stdout",
     "output_type": "stream",
     "text": [
      "Temperature feedback:  -3.7786067340705367  W m^-2 K^-1\n"
     ]
    }
   ],
   "source": [
    "## Add the surface and air temperature response; Take the annual\n",
    "## average and global area average \n",
    "dLW_t_globalmean = -(\n",
    "    (dLW_ta.sum(dim='plev') + dLW_ts).mean(dim='time') * weight).sum()\n",
    "\n",
    "## Divide by the global annual mean surface warming (units: W/m2/K)\n",
    "t_feedback=dLW_t_globalmean / dts_globalmean\n",
    "\n",
    "print('Temperature feedback: ', str(t_feedback.values), ' W m^-2 K^-1')"
   ]
  },
  {
   "cell_type": "markdown",
   "id": "a6158e64-600e-4794-b70f-01d230e30276",
   "metadata": {},
   "source": [
    "# Albedo Feedback"
   ]
  },
  {
   "cell_type": "code",
   "execution_count": 23,
   "id": "2a3c7d8d-11c2-45dd-bb96-3f5910a90942",
   "metadata": {},
   "outputs": [],
   "source": [
    "## Collect surface shortwave radiation fields to calculate albedo.\n",
    "## Alternatively, you might already have the change in albedo - that\n",
    "## would work too.\n",
    "SW_sfc_net_1=basefile.FSNS\n",
    "SW_sfc_down_1=basefile.FSDS\n",
    "SW_sfc_net_2=changefile.FSNS+SW_sfc_net_1\n",
    "SW_sfc_down_2=changefile.FSDS+SW_sfc_down_1\n",
    "\n",
    "alb1= 1 - SW_sfc_net_1/SW_sfc_down_1\n",
    "alb1 = xr.where(np.isnan(alb1), 0, alb1)\n",
    "\n",
    "alb2= 1 - SW_sfc_net_2/SW_sfc_down_2\n",
    "alb2 = xr.where(np.isnan(alb2), 0, alb2)\n",
    "\n",
    "dalb=(alb2-alb1)*100\n",
    "\n",
    "alb_kernel = xr.open_dataset('./kernels/alb.kernel.nc').FSNT\n",
    "if (cs_linearity_test == True):\n",
    "    alb_kernel = xr.open_dataset('./kernels/alb.kernel.nc').FSNTC\n",
    "    \n",
    "dSW_alb = alb_kernel * dalb\n"
   ]
  },
  {
   "cell_type": "code",
   "execution_count": 24,
   "id": "d495c0a3-5043-41c5-b824-8866871ff13b",
   "metadata": {},
   "outputs": [
    {
     "name": "stdout",
     "output_type": "stream",
     "text": [
      "Surf. albedo feedback:  1.0848765445399422  W m^-2 K^-1\n"
     ]
    }
   ],
   "source": [
    "## average and global area average \n",
    "dSW_alb_globalmean = (dSW_alb.mean(dim='time') * weight).sum()\n",
    "alb_feedback = dSW_alb_globalmean / dts_globalmean\n",
    "\n",
    "print('Surf. albedo feedback: ', str(alb_feedback.values), ' W m^-2 K^-1')"
   ]
  },
  {
   "cell_type": "code",
   "execution_count": null,
   "id": "45975170-a5e5-435b-8a6c-62f996624224",
   "metadata": {},
   "outputs": [],
   "source": []
  },
  {
   "cell_type": "markdown",
   "id": "fb89b8fd-a57b-4287-a830-3769434f82fb",
   "metadata": {},
   "source": [
    "# Water vapor feedback"
   ]
  },
  {
   "cell_type": "code",
   "execution_count": 25,
   "id": "e5542f5a-21e0-418b-9db9-bba7387097a0",
   "metadata": {},
   "outputs": [],
   "source": [
    "## Calculate the change in moisture per degree warming at constant relative humidity. \n",
    "q1=basefile3d.Q\n",
    "t1=basefile3d.temp"
   ]
  },
  {
   "cell_type": "code",
   "execution_count": 26,
   "id": "c4c6768b-71f1-45ec-9037-948df4ca7e1f",
   "metadata": {},
   "outputs": [],
   "source": [
    "## addpath scripts/\n",
    "## VTC script for\n",
    "def calcsatspechum(t_in, p_in):\n",
    "    ## T is temperature, P is pressure in hPa \n",
    "\n",
    "    ## Formulae from Buck (1981):\n",
    "    es = (1.0007+(3.46e-6 * p_in)) * 6.1121 * (\n",
    "        np.exp(17.502*(t_in - 273.15) / (240.97+(t_in - 273.15))))\n",
    "    \n",
    "    wsl = 0.622 * es / (p_in - es) ## saturation mixing ratio wrt liquid water (g/kg)\n",
    "    \n",
    "    es = (1.0003 + ( 4.18e-6 * p_in)) * 6.1115 * (\n",
    "        np.exp(22.452 * (t_in - 273.15) / (272.55 + (t_in - 273.15))))\n",
    "    \n",
    "    wsi = 0.622 * es / (p - es) ## saturation mixing ratio wrt ice (g/kg)\n",
    "    \n",
    "    ws = wsl\n",
    "    \n",
    "    ws = xr.where(t_in < 273.15, wsi, ws)\n",
    "    \n",
    "    qs = ws / (1+ws) ## saturation specific humidity, g/kg\n",
    "    return(qs)\n"
   ]
  },
  {
   "cell_type": "code",
   "execution_count": 27,
   "id": "045917fe-908b-4a8a-a0ac-bdd675dde1b5",
   "metadata": {},
   "outputs": [],
   "source": [
    "qs1 = calcsatspechum(t1,p) #g/kg\n",
    "qs2 = calcsatspechum(t1+dta,p) #g/kg\n",
    "dqsdt = (qs2 - qs1) / dta\n",
    "rh = q1 / qs1\n",
    "dqdt = rh * dqsdt\n",
    "\n",
    "## Read kernels\n",
    "q_LW_kernel = xr.open_dataset('q.kernel.plev.nc').FLNT\n",
    "q_SW_kernel = xr.open_dataset('q.kernel.plev.nc').FSNT\n",
    "if (cs_linearity_test == True):\n",
    "    q_LW_kernel = xr.open_dataset('q.kernel.plev.nc').FLNTC\n",
    "    q_SW_kernel = xr.open_dataset('q.kernel.plev.nc').FSNTC\n",
    "\n",
    "## Normalize kernels by the change in moisture for 1 K warming at\n",
    "## constant RH\n",
    "q_LW_kernel = q_LW_kernel.values / dqdt;\n",
    "q_SW_kernel = q_SW_kernel.values / dqdt;\n",
    "\n",
    "## Read the change in moisture\n",
    "dq = changefile3d.Q"
   ]
  },
  {
   "cell_type": "code",
   "execution_count": 28,
   "id": "3a991db9-ef10-4047-a5f5-f8c80a459806",
   "metadata": {},
   "outputs": [],
   "source": [
    "## Set the moisture change to zero in the stratosphere (mask out stratosphere)\n",
    "dq = xr.where(p>=p_tropopause, dq, np.nan)"
   ]
  },
  {
   "cell_type": "code",
   "execution_count": 29,
   "id": "acb5602c-389c-4601-b4f4-3e2f7508de12",
   "metadata": {},
   "outputs": [],
   "source": [
    "## Convolve moisture kernel with change in moisture\n",
    "dLW_q = q_LW_kernel * dq.values * pdiff.values\n",
    "dSW_q = q_SW_kernel * dq.values * pdiff.values"
   ]
  },
  {
   "cell_type": "code",
   "execution_count": 30,
   "id": "019e7782-1d61-4209-ae55-b85346979ede",
   "metadata": {},
   "outputs": [
    {
     "name": "stdout",
     "output_type": "stream",
     "text": [
      "Water vapor feedback:  1.9749306665255981  W m^-2 K^-1\n"
     ]
    }
   ],
   "source": [
    "## Add the LW and SW responses. Note the sign convention difference\n",
    "## between LW and SW!\n",
    "dR_q_globalmean = (\n",
    "    (-dLW_q + dSW_q).sum(dim='lev_p').mean(dim='time') * weight).sum()\n",
    "\n",
    "## Divide by the global annual mean surface warming (units: W/m2/K)\n",
    "q_feedback = dR_q_globalmean / dts_globalmean\n",
    "\n",
    "print('Water vapor feedback: ', str(q_feedback.values), ' W m^-2 K^-1')\n"
   ]
  },
  {
   "cell_type": "markdown",
   "id": "1e170365-4d51-49da-98b7-91e1cd99cae3",
   "metadata": {},
   "source": [
    "# WV with log of Q"
   ]
  },
  {
   "cell_type": "code",
   "execution_count": 31,
   "id": "9c288cf5-73fc-47ee-aa52-42f612425b1b",
   "metadata": {},
   "outputs": [],
   "source": [
    "## Calculate the change in moisture per degree warming at constant relative humidity. \n",
    "## Run the accompanying NCL script with your input files, or\n",
    "## implement here.                                                             "
   ]
  },
  {
   "cell_type": "code",
   "execution_count": 32,
   "id": "85895680-f147-4717-a2af-2f4d8a22c203",
   "metadata": {},
   "outputs": [],
   "source": [
    "q0 = q1 ## AP used q1 for this above #basefile3d.Q #kg/kg \n",
    "\n",
    "## all of these are set above\n",
    "#t1 = basefile3d.temp set above\n",
    "#dta = changefile3d.temp ## set above\n",
    "#qs1 = calcsatspechum(t1,p); % g/kg\n",
    "#qs2 = calcsatspechum(t1+dta,p); % g/kg\n",
    "#dqsdt = (qs2 - qs1)./dta;\n",
    "\n",
    "## slightly different from above\n",
    "rh = 1000*q0 / qs1\n",
    "dqdt = rh * dqsdt ## assume constant RH\n",
    "dlogqdt= dqdt / (1000 * q0) ## convert denominator to g/kg\n",
    "\n",
    "## Re-read kernels, \n",
    "## normalize by the change in moisture for 1 K warming at\n",
    "## constant RH using log Q\n",
    "q_LW_kernel = xr.open_dataset('q.kernel.plev.nc').FLNT.values\n",
    "if (cs_linearity_test == True):\n",
    "    q_LW_kernel = xr.open_dataset('q.kernel.plev.nc').FLNTC.values\n",
    "logq_LW_kernel = q_LW_kernel / dlogqdt\n",
    "q_SW_kernel = xr.open_dataset('q.kernel.plev.nc').FSNT.values\n",
    "if (cs_linearity_test == True):\n",
    "    q_SW_kernel = xr.open_dataset('q.kernel.plev.nc').FSNTC.values\n",
    "logq_SW_kernel = q_SW_kernel / dlogqdt"
   ]
  },
  {
   "cell_type": "code",
   "execution_count": 33,
   "id": "d38c6d5f-d9cb-4d4b-82cb-ddc503010d9a",
   "metadata": {},
   "outputs": [],
   "source": [
    "## all set above\n",
    "## Read the change in moisture\n",
    "## dq=ncread(changefile3d,'Q');\n",
    "## Mask out the stratosphere\n",
    "##dq=dq.*(p>=p_tropopause);\n",
    "\n",
    "dlogq = dq / q0\n"
   ]
  },
  {
   "cell_type": "code",
   "execution_count": 34,
   "id": "c7eff973-c8f5-446a-b610-f726bcd9d6e0",
   "metadata": {},
   "outputs": [
    {
     "name": "stdout",
     "output_type": "stream",
     "text": [
      "logQ WV feedback:  1.9749306665255981  W m^-2 K^-1\n",
      "linQ WV feedback:  1.9749306665255981  W m^-2 K^-1\n"
     ]
    }
   ],
   "source": [
    "## Convolve moisture kernel with change in moisture\n",
    "dLW_logq = logq_LW_kernel.values * dlogq * pdiff.values\n",
    "dSW_logq = logq_SW_kernel.values * dlogq * pdiff.values\n",
    "\n",
    "## Add the LW and SW responses. \n",
    "## Note the sign convention difference LW and SW\n",
    "dR_logq_globalmean = (\n",
    "    (-dLW_logq + dSW_logq).sum(dim='lev_p').mean(dim='time') * weight).sum()\n",
    "\n",
    "## Divide by the global annual mean surface warming (units: W/m2/K)\n",
    "logq_feedback = dR_logq_globalmean / dts_globalmean\n",
    "\n",
    "print('logQ WV feedback: ', str(logq_feedback.values), ' W m^-2 K^-1')\n",
    "print('linQ WV feedback: ', str(q_feedback.values), ' W m^-2 K^-1')"
   ]
  },
  {
   "cell_type": "markdown",
   "id": "226734df-d2e5-4612-bd1a-ef30eccf5488",
   "metadata": {},
   "source": [
    "# Planck Feedback"
   ]
  },
  {
   "cell_type": "code",
   "execution_count": 35,
   "id": "4a3af5e9-5073-4c79-b5e9-b46a5e0be24d",
   "metadata": {},
   "outputs": [],
   "source": [
    "## Project surface temperature change into height \n",
    "##VTC\n",
    "##dts3d=repmat(permute(dts,[1 2 4 3]),[1 1 30 1]);\n",
    "dts3d = dts + changefile3d.temp-changefile3d.temp\n",
    "\n",
    "## Mask stratosphere\n",
    "dt_planck = xr.where(p>=p_tropopause, dts3d, np.nan)\n"
   ]
  },
  {
   "cell_type": "code",
   "execution_count": 36,
   "id": "a186c8aa-c26a-4584-9424-b3616ded2d4b",
   "metadata": {},
   "outputs": [],
   "source": [
    "## Convolve air temperature kernel with 3-d surface air temp change\n",
    "##VTC\n",
    "##dLW_planck=squeeze(sum(ta_kernel_hybrid.*dt_planck,3));\n",
    "# dLW_planck = squeeze(sum(ta_kernel * dt_planck.*pdiff,3))\n",
    "dLW_planck=ta_kernel.FLNT * dt_planck.values * pdiff.values\n",
    "if (cs_linearity_test==True):\n",
    "    dLW_planck=ta_kernel.FLNTC * dt_planck.values * pdiff.values\n",
    "    \n",
    "\n",
    "## Take the annual average and global area average; incorporate the\n",
    "## part due to surface temperature change itself \n",
    "dLW_planck_globalmean = -(\n",
    "    (dLW_planck.sum(dim='plev') + dLW_ts).mean(dim='time') * weight).sum()\n",
    "\n",
    "## Divide by the global annual mean surface warming (units: W/m2/K)\n",
    "planck_feedback=dLW_planck_globalmean / dts_globalmean\n"
   ]
  },
  {
   "cell_type": "code",
   "execution_count": 37,
   "id": "123c2c29-0f90-4057-874b-a7d775ef1987",
   "metadata": {},
   "outputs": [
    {
     "name": "stdout",
     "output_type": "stream",
     "text": [
      "Planck feedback:  -3.6838052308967755  W m^-2 K^-1\n",
      "Lapse rate feedback:  -0.0948015031737611  W m^-2 K^-1\n",
      "Temperature feedback:  -3.7786067340705367  W m^-2 K^-1\n",
      "Planck+lapse rate components:  -3.7786067340705367  W m^-2 K^-1\n"
     ]
    }
   ],
   "source": [
    "## Lapse rate feedback                                                                                                                                                                 \n",
    "## Calculate the departure of temperature change from the surface\n",
    "## temperature change\n",
    "dt_lapserate=xr.where(p>=p_tropopause, dta-dt_planck, np.nan)\n",
    "\n",
    "## Convolve air temperature kernel with 3-d surface air temp change\n",
    "## VTC\n",
    "## dLW_lapserate=squeeze(sum(ta_kernel.*dt_lapserate,3));\n",
    "# dLW_lapserate=squeeze(sum(ta_kernel.*dt_lapserate.*pdiff,3));\n",
    "dLW_lapserate = ta_kernel.FLNT * dt_lapserate.values * pdiff.values\n",
    "if (cs_linearity_test==True):\n",
    "    dLW_lapserate = ta_kernel.FLNTC * dt_lapserate.values * pdiff.values\n",
    "    \n",
    "\n",
    "## Take the annual average and global area average \n",
    "dLW_lapserate_globalmean = -(\n",
    "    (dLW_lapserate.sum(dim='plev')).mean(dim='time') * weight).sum()\n",
    "\n",
    "## Divide by the global annual mean surface warming (units: W/m2/K)\n",
    "lapserate_feedback = dLW_lapserate_globalmean / dts_globalmean\n",
    "\n",
    "print('Planck feedback: ', \n",
    "      str(planck_feedback.values), ' W m^-2 K^-1')\n",
    "print('Lapse rate feedback: ', \n",
    "      str(lapserate_feedback.values), ' W m^-2 K^-1')\n",
    "\n",
    "### SANITY CHECK: Do the Planck and lapse-rate feedbacks add up to\n",
    "### the total temperature feedback? (They should)\n",
    "\n",
    "## Planck + lapse rate feedback\n",
    "total_t_feedback = planck_feedback+lapserate_feedback\n",
    "\n",
    "print('Temperature feedback: ',\n",
    "      str(t_feedback.values), ' W m^-2 K^-1')\n",
    "print('Planck+lapse rate components: ',\n",
    "      str(total_t_feedback.values), ' W m^-2 K^-1')\n"
   ]
  },
  {
   "cell_type": "code",
   "execution_count": null,
   "id": "be3f3336-b743-461b-a99e-cf3728ebd506",
   "metadata": {},
   "outputs": [],
   "source": []
  },
  {
   "cell_type": "markdown",
   "id": "7fbb45fd-b2e8-45f9-ba18-44e276145304",
   "metadata": {},
   "source": [
    "## Cloud Feedback"
   ]
  },
  {
   "cell_type": "code",
   "execution_count": 38,
   "id": "eceb0e8d-607e-43f5-90ea-fade22243eef",
   "metadata": {},
   "outputs": [],
   "source": [
    "## STEP 1. Calculate total-sky and clear-sky feedbacks\n",
    "lev = ta_kernel.plev.values ## this is in Pa"
   ]
  },
  {
   "cell_type": "code",
   "execution_count": 39,
   "id": "5e38a0e1-9726-4c4e-b3ea-81d67a7cb71c",
   "metadata": {},
   "outputs": [],
   "source": [
    "## Read TOA Longwave surface temperature kernel\n",
    "ts_kernel_clearsky = xr.open_dataset('./kernels/ts.kernel.nc').FLNTC\n",
    "\n",
    "## Multiply monthly mean TS change by the TS kernels \n",
    "## (function of lat, lon, month) (units W/m2)\n",
    "dLW_ts_cs = ts_kernel_clearsky * dts \n",
    "\n",
    "## Read clear-sky air temperature kernel\n",
    "ta_kernel_clearsky = xr.open_dataset('./t.kernel.plev.nc').FLNTC\n",
    "\n",
    "## Convolve air temperature kernel with air temperature change\n",
    "dLW_ta = dLW_ta.sum(dim='plev')\n",
    "dLW_ta_cs = (ta_kernel_clearsky.values * dta * pdiff.values).sum(dim='lev_p')"
   ]
  },
  {
   "cell_type": "code",
   "execution_count": 40,
   "id": "ed6f01e6-aeb9-4be1-99f9-e7e403965248",
   "metadata": {},
   "outputs": [],
   "source": [
    "## ALBEDO clear sky\n",
    "\n",
    "## Read TOA albedo kernel\n",
    "alb_kernel_clearsky = xr.open_dataset('./kernels/alb.kernel.nc').FSNTC\n",
    "\n",
    "dSW_alb_cs = alb_kernel_clearsky.values * dalb"
   ]
  },
  {
   "cell_type": "code",
   "execution_count": 41,
   "id": "a62ef1f3-1ec6-40e2-b44c-0991ed4dfff5",
   "metadata": {},
   "outputs": [],
   "source": [
    "## WATER VAPOR clear sky\n",
    "\n",
    "## read kernels\n",
    "q_LW_kernel = xr.open_dataset('./q.kernel.plev.nc').FLNT\n",
    "q_SW_kernel = xr.open_dataset('./q.kernel.plev.nc').FSNT\n",
    "q_LW_kernel_clearsky = xr.open_dataset('./q.kernel.plev.nc').FLNTC\n",
    "q_SW_kernel_clearsky = xr.open_dataset('./q.kernel.plev.nc').FSNTC\n",
    "\n",
    "## Normalize kernels by the change in moisture for 1 K warming at\n",
    "## constant RH (linear)\n",
    "rh = q1 / qs1\n",
    "dqdt = rh * dqsdt ## from above, reset to linear method\n",
    "q_LW_kernel = q_LW_kernel.values / dqdt\n",
    "q_SW_kernel = q_SW_kernel.values / dqdt\n",
    "q_LW_kernel_clearsky = q_LW_kernel_clearsky.values / dqdt\n",
    "q_SW_kernel_clearsky = q_SW_kernel_clearsky.values / dqdt\n",
    "\n",
    "## Convolve moisture kernel with change in moisture\n",
    "dLW_q = (q_LW_kernel.values * dq * pdiff.values).sum(dim='lev_p')\n",
    "dSW_q = (q_SW_kernel.values * dq * pdiff.values).sum(dim='lev_p')\n",
    "dLW_q_cs = (q_LW_kernel_clearsky.values * dq * pdiff.values).sum(dim='lev_p')\n",
    "dSW_q_cs = (q_SW_kernel_clearsky.values * dq * pdiff.values).sum(dim='lev_p')"
   ]
  },
  {
   "cell_type": "code",
   "execution_count": 42,
   "id": "110f3090-ad1f-4d8c-85f4-e00eb0d1037d",
   "metadata": {},
   "outputs": [],
   "source": [
    "### Change in Cloud Radiative Effect (CRE) \n",
    "d_sw = changefile3d.FSNT\n",
    "d_sw_cs = changefile3d.FSNTC\n",
    "d_lw = changefile3d.FLNT\n",
    "d_lw_cs = changefile3d.FLNTC\n",
    "\n",
    "d_cre_sw = d_sw_cs - d_sw\n",
    "d_cre_lw = d_lw_cs - d_lw\n"
   ]
  },
  {
   "cell_type": "code",
   "execution_count": 43,
   "id": "403eaeae-0c2e-434e-979f-6cdb342b85d8",
   "metadata": {},
   "outputs": [],
   "source": [
    "## THIS WOULD NEED TO BE ADJUSTED\n",
    "### Cloud masking of radiative forcing\n",
    "ghgfile = './forcing/ghg.forcing.nc'\n",
    "sw = xr.open_dataset(ghgfile).FSNT\n",
    "sw_cs = xr.open_dataset(ghgfile).FSNTC\n",
    "lw = xr.open_dataset(ghgfile).FLNT\n",
    "lw_cs = xr.open_dataset(ghgfile).FLNTC\n",
    "ghg_sw = sw_cs-sw\n",
    "ghg_lw = lw_cs-lw\n",
    "\n",
    "aerosolfile = './forcing/aerosol.forcing.nc';\n",
    "sw = xr.open_dataset(aerosolfile).FSNT\n",
    "sw_cs = xr.open_dataset(aerosolfile).FSNTC\n",
    "lw = xr.open_dataset(aerosolfile).FLNT\n",
    "lw_cs = xr.open_dataset(aerosolfile).FLNTC\n",
    "aerosol_sw = sw_cs - sw\n",
    "aerosol_lw = lw_cs - lw\n",
    "\n",
    "## MAKE FORCING ZERO because there is no forcing in these experiments\n",
    "cloud_masking_of_forcing_sw = 0 # aerosol_sw + ghg_sw\n",
    "cloud_masking_of_forcing_lw = 0 # aerosol_lw + ghg_lw\n"
   ]
  },
  {
   "cell_type": "code",
   "execution_count": 44,
   "id": "8f129e91-32d2-43ad-8b73-91ae17a1a26e",
   "metadata": {},
   "outputs": [],
   "source": [
    "### Cloud feedback\n",
    "### CRE + cloud masking of radiative forcing + corrections for each feedback\n",
    "\n",
    "dLW_cloud = -d_cre_lw + cloud_masking_of_forcing_lw + (\n",
    "    dLW_q_cs - dLW_q.values) + (dLW_ta_cs - dLW_ta.values) + (dLW_ts_cs - dLW_ts)\n",
    "dSW_cloud = -d_cre_sw + cloud_masking_of_forcing_sw + (\n",
    "    dSW_q_cs - dSW_q.values) + (dSW_alb_cs-dSW_alb)\n"
   ]
  },
  {
   "cell_type": "code",
   "execution_count": 45,
   "id": "ff6c4752-4ac7-44dc-b5a8-03093d65f250",
   "metadata": {},
   "outputs": [],
   "source": [
    "# ## LW CLOUD\n",
    "# height=[ \n",
    "#             (-d_cre_lw.mean(dim='time') * weight).sum(),\n",
    "#             (cloud_masking_of_forcing_lw.mean(dim='time') * weight).sum(),\n",
    "#             ((dLW_q_cs - dLW_q.values).mean(dim='time') * weight).sum(),\n",
    "#             ((dLW_ta_cs - dLW_ta.values).mean(dim='time') * weight).sum(),\n",
    "#             ((dLW_ts_cs - dLW_ts).mean(dim='time') * weight).sum(),\n",
    "#             (dLW_cloud.mean(dim='time') * weight).sum(),\n",
    "#             ]\n",
    "# plt.bar(x=np.arange(len(height)),\n",
    "#         height=height)\n",
    "# plt.show()\n",
    "\n",
    "\n",
    "# ## SW Cloud\n",
    "# height=[ \n",
    "#             (-d_cre_sw.mean(dim='time') * weight).sum(),\n",
    "#             (cloud_masking_of_forcing_sw.mean(dim='time') * weight).sum(),\n",
    "#             ((dSW_q_cs - dSW_q.values).mean(dim='time') * weight).sum(),\n",
    "#             ((dSW_alb_cs - dSW_alb.values).mean(dim='time') * weight).sum(),\n",
    "#             (dSW_cloud.mean(dim='time') * weight).sum(),\n",
    "#             ]\n",
    "# plt.bar(x=np.arange(len(height)),\n",
    "#         height=height)"
   ]
  },
  {
   "cell_type": "code",
   "execution_count": 46,
   "id": "a5611710-7736-4b19-8892-5f5f036cc706",
   "metadata": {},
   "outputs": [
    {
     "name": "stdout",
     "output_type": "stream",
     "text": [
      "LW Cloud feedback:  0.48733889258999946  W m^-2 K^-1\n",
      "SW Cloud feedback:  -0.12399518720613435  W m^-2 K^-1\n"
     ]
    }
   ],
   "source": [
    "## Take global and annual averages\n",
    "dLW_cloud_globalmean = (-dLW_cloud.mean(dim='time') * weight).sum()\n",
    "dSW_cloud_globalmean = ( dSW_cloud.mean(dim='time') * weight).sum()\n",
    "\n",
    "## Divide by global, annual mean temperature change to get W/m2/K\n",
    "lw_cloud_feedback = dLW_cloud_globalmean / dts_globalmean\n",
    "sw_cloud_feedback = dSW_cloud_globalmean / dts_globalmean\n",
    "\n",
    "print('LW Cloud feedback: ',\n",
    "      str(lw_cloud_feedback.values), ' W m^-2 K^-1')\n",
    "print('SW Cloud feedback: ',\n",
    "      str(sw_cloud_feedback.values), ' W m^-2 K^-1')"
   ]
  },
  {
   "cell_type": "markdown",
   "id": "c0547615-5629-4cc7-97d0-859d5600c30f",
   "metadata": {},
   "source": [
    "# All Feedbacks"
   ]
  },
  {
   "cell_type": "code",
   "execution_count": 47,
   "id": "d0edc58b-3b18-43cb-b4c3-de4dee94cc31",
   "metadata": {},
   "outputs": [
    {
     "name": "stdout",
     "output_type": "stream",
     "text": [
      "Planck feedback:  -3.6838052308967755  W m^-2 K^-1\n",
      "Lapse rate feedback:  -0.0948015031737611  W m^-2 K^-1\n",
      "Water vapor feedback:  1.9749306665255981  W m^-2 K^-1\n",
      "Surf. albedo feedback:  1.0848765445399422  W m^-2 K^-1\n",
      "LW Cloud feedback:  0.48733889258999946  W m^-2 K^-1\n",
      "SW Cloud feedback:  -0.12399518720613435  W m^-2 K^-1\n",
      "\n",
      "\n",
      "Sum all feedbacks:  -0.35545581762113126  W m^-2 K^-1\n",
      "\n",
      "\n",
      "Temperature feedback:  -3.7786067340705367  W m^-2 K^-1\n",
      "Planck+lapse rate components:  -3.7786067340705367  W m^-2 K^-1\n",
      "\n",
      "\n",
      "logQ WV feedback:  1.9749306665255981  W m^-2 K^-1\n",
      "linQ WV feedback:  1.9749306665255981  W m^-2 K^-1\n"
     ]
    }
   ],
   "source": [
    "print('Planck feedback: ', \n",
    "      str(planck_feedback.values), ' W m^-2 K^-1')\n",
    "print('Lapse rate feedback: ', \n",
    "      str(lapserate_feedback.values), ' W m^-2 K^-1')\n",
    "print('Water vapor feedback: ', \n",
    "      str(q_feedback.values), ' W m^-2 K^-1')\n",
    "print('Surf. albedo feedback: ', \n",
    "      str(alb_feedback.values), ' W m^-2 K^-1')\n",
    "print('LW Cloud feedback: ',\n",
    "      str(lw_cloud_feedback.values), ' W m^-2 K^-1')\n",
    "print('SW Cloud feedback: ',\n",
    "      str(sw_cloud_feedback.values), ' W m^-2 K^-1')\n",
    "\n",
    "sumall = planck_feedback + lapserate_feedback + q_feedback + alb_feedback + (\n",
    "    lw_cloud_feedback + sw_cloud_feedback)\n",
    "print('\\n\\nSum all feedbacks: ',\n",
    "      str(sumall.values), ' W m^-2 K^-1')\n",
    "\n",
    "## extras\n",
    "print('\\n\\nTemperature feedback: ',\n",
    "      str(t_feedback.values), ' W m^-2 K^-1')\n",
    "print('Planck+lapse rate components: ',\n",
    "      str(total_t_feedback.values), ' W m^-2 K^-1')\n",
    "\n",
    "print('\\n\\nlogQ WV feedback: ', str(logq_feedback.values), ' W m^-2 K^-1')\n",
    "print('linQ WV feedback: ', str(q_feedback.values), ' W m^-2 K^-1')"
   ]
  },
  {
   "cell_type": "code",
   "execution_count": 48,
   "id": "429b7276-a5c9-468f-a4ae-562527b139f7",
   "metadata": {},
   "outputs": [
    {
     "data": {
      "text/plain": [
       "array([-3.68380523, -0.0948015 ,  1.97493067,  1.08487654,  0.48733889,\n",
       "       -0.12399519])"
      ]
     },
     "execution_count": 48,
     "metadata": {},
     "output_type": "execute_result"
    }
   ],
   "source": [
    "np.array([planck_feedback,\n",
    "          lapserate_feedback,\n",
    "          q_feedback,\n",
    "          alb_feedback,\n",
    "          lw_cloud_feedback,\n",
    "          sw_cloud_feedback])"
   ]
  },
  {
   "cell_type": "code",
   "execution_count": 49,
   "id": "5fbee4a9-d5d0-41e3-83a1-6c31a316d718",
   "metadata": {},
   "outputs": [],
   "source": [
    "cam6_lrmip_by05 = np.array([-3.25445757, -0.6615516 ,  1.66110523,  0.18370864,  0.14520242,\n",
    "        0.67758908])"
   ]
  },
  {
   "cell_type": "code",
   "execution_count": 50,
   "id": "9a3413bf-ba6a-43f8-8fd9-566c7ca2e438",
   "metadata": {},
   "outputs": [
    {
     "name": "stdout",
     "output_type": "stream",
     "text": [
      "/glade/work/vcooper/kernels/2023_cam5/cam5-kernels\n"
     ]
    }
   ],
   "source": [
    "!pwd -P"
   ]
  },
  {
   "cell_type": "code",
   "execution_count": 51,
   "id": "e18a9bd9-2943-4ae9-858e-f37cfb1e235b",
   "metadata": {},
   "outputs": [
    {
     "data": {
      "text/plain": [
       "array([ 0.02244693, -0.31902031,  0.17705989,  0.25597418,  0.04173478,\n",
       "       -0.31819098])"
      ]
     },
     "execution_count": 51,
     "metadata": {},
     "output_type": "execute_result"
    }
   ],
   "source": [
    "gfdl_2x_on23 = np.array([-3.1544784 , -0.36923872,  1.58686302,  0.82214483,  0.43340306,\n",
    "       -0.04585133])\n",
    "\n",
    "gfdl_2x_on17 = np.array([-3.17151217, -0.37182861,  1.58932426,  0.82214483,  0.4465051 ,\n",
    "       -0.04362391])\n",
    "gfdl_lgm_on17 = np.array([-3.1939591 , -0.0528083 ,  1.41226437,  0.56617065,  0.40477032,\n",
    "        0.27456707])\n",
    "\n",
    "gfdl_2x_on17 - gfdl_lgm_on17"
   ]
  },
  {
   "cell_type": "code",
   "execution_count": 52,
   "id": "8a71ba45-403b-42e8-a937-bc8d24e56ca3",
   "metadata": {},
   "outputs": [],
   "source": [
    "# plt.bar(x=np.arange(6),height=gfdl_2x_on17 - gfdl_lgm_on17)\n",
    "# plt.bar(x=6,height=(gfdl_2x_on17 - gfdl_lgm_on17).sum())\n",
    "# plt.show()"
   ]
  },
  {
   "cell_type": "markdown",
   "id": "96f39fd4-488b-484d-8029-f5b8bd2bd00c",
   "metadata": {},
   "source": [
    "# Clear-sky linearity test"
   ]
  },
  {
   "cell_type": "code",
   "execution_count": 53,
   "id": "24d66e93-caa4-40a5-86c0-1cf023053ce7",
   "metadata": {},
   "outputs": [
    {
     "name": "stdout",
     "output_type": "stream",
     "text": [
      "-2.3037753870639746\n"
     ]
    }
   ],
   "source": [
    "## compare this value with model FSNTC-FLNTC global and annual mean\n",
    "print((dLW_t_globalmean + dSW_alb_globalmean + dR_q_globalmean).values)\n",
    "# print((dLW_lapserate_globalmean + dLW_planck_globalmean - dLW_t_globalmean).values)"
   ]
  },
  {
   "cell_type": "code",
   "execution_count": 54,
   "id": "c2bbe2f9-21f2-44c2-a93e-387a0356a768",
   "metadata": {},
   "outputs": [],
   "source": [
    "cam5_lrmip = -2.9960879607579294 ## strat_mask=True\n",
    "cam5_lrmip = -3.03959124075484   ## strat_mask=False\n",
    "cam5_lrmip_truth = -3.11885026\n",
    "\n",
    "cam5_lgmr = 4.453527632062601 ## strat_mask=True\n",
    "cam5_lgmr = 4.598824776700662 ## strat_mask=False\n",
    "# cam5_lgmr_altFSDS = 6.861751433858588 ## strat_mask=False\n",
    "cam5_lgmr_truth = 4.3594106"
   ]
  },
  {
   "cell_type": "code",
   "execution_count": 55,
   "id": "8c0dc981-9a46-47b9-84ee-d54e07f6c2f4",
   "metadata": {},
   "outputs": [
    {
     "data": {
      "text/plain": [
       "0.05491893255034541"
      ]
     },
     "execution_count": 55,
     "metadata": {},
     "output_type": "execute_result"
    }
   ],
   "source": [
    "cam5_lgmr/cam5_lgmr_truth-1"
   ]
  },
  {
   "cell_type": "code",
   "execution_count": null,
   "id": "444d645f-d24f-4c3a-97b8-64b7c20a1d80",
   "metadata": {},
   "outputs": [],
   "source": []
  }
 ],
 "metadata": {
  "kernelspec": {
   "display_name": "Python [conda env:miniconda3-plato]",
   "language": "python",
   "name": "conda-env-miniconda3-plato-py"
  },
  "language_info": {
   "codemirror_mode": {
    "name": "ipython",
    "version": 3
   },
   "file_extension": ".py",
   "mimetype": "text/x-python",
   "name": "python",
   "nbconvert_exporter": "python",
   "pygments_lexer": "ipython3",
   "version": "3.8.13"
  }
 },
 "nbformat": 4,
 "nbformat_minor": 5
}

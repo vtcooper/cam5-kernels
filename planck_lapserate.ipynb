{
 "cells": [
  {
   "cell_type": "markdown",
   "id": "c06a515e-e7fe-45ed-be02-72a58e8afce7",
   "metadata": {},
   "source": [
    "# V. Cooper python version of A. Pendergrass script"
   ]
  },
  {
   "cell_type": "code",
   "execution_count": 1,
   "id": "96a8dcdb-43c5-487f-b674-61c08a2974ee",
   "metadata": {},
   "outputs": [],
   "source": [
    "# import warnings\n",
    "# warnings.filterwarnings('ignore')\n",
    "\n",
    "import numpy as np\n",
    "import matplotlib as mpl\n",
    "import matplotlib.pyplot as plt\n",
    "import xarray as xr\n",
    "# import xesmf as xe\n",
    "import cartopy.crs as ccrs\n",
    "import cartopy.feature as cfeature\n",
    "import copy\n",
    "import pandas as pd\n",
    "import cmocean as cmo\n",
    "from cartopy.util import add_cyclic_point\n",
    "import seaborn as sns\n",
    "%matplotlib inline\n",
    "\n",
    "import xesmf as xe"
   ]
  },
  {
   "cell_type": "code",
   "execution_count": 2,
   "id": "10b701eb-3c0e-46e5-98c7-66b25308e791",
   "metadata": {},
   "outputs": [],
   "source": [
    "# File with the changes in climate: (ts, temp) (TS,T,Q)\n",
    "changefile=xr.open_dataset('./demodata/changefields.nc')[['ts','gw']]\n",
    "changefile3d=xr.open_dataset('./changefields.plev.nc')\n",
    "# basefile3d=xr.open_dataset('./demodata/basefields.plev.nc')\n",
    "\n",
    "###################\n",
    "\n",
    "## Read air temperature kernel \n",
    "# ta_kernel_hybrid=ncread('kernels/t.kernel.nc','FLNT');\n",
    "ta_kernel=xr.open_dataset('t.kernel.plev.nc')\n",
    "\n",
    "## VTC add section to read in pressure levels\n",
    "p_Pa=ta_kernel.plev\n",
    "p_hPa=ta_kernel.lev_p \n",
    "\n",
    "pdiff=xr.open_dataset('dp_plev.nc').dp/100\n",
    "\n",
    "# p=repmat(permute(repmat(p_hPa,[1 12]),[3 4 1 2]),[288 192 1 1]);\n",
    "p = p_hPa.values[np.newaxis, :, np.newaxis, np.newaxis] * np.ones(ta_kernel.FLNT.shape)"
   ]
  },
  {
   "cell_type": "code",
   "execution_count": 3,
   "id": "d68817b2-e5ce-48cb-b110-fd496b180c61",
   "metadata": {},
   "outputs": [
    {
     "name": "stdout",
     "output_type": "stream",
     "text": [
      "Global mean dTS:  -0.5839361181344885\n"
     ]
    }
   ],
   "source": [
    "###################\n",
    "\n",
    "## Read in coordinate info\n",
    "lat=xr.open_dataset('./kernels/PS.nc').lat\n",
    "lon=xr.open_dataset('./kernels/PS.nc').lon\n",
    "gw=xr.open_dataset('./kernels/t.kernel.nc').gw ## Gaussian weights for CESMgrid\n",
    "# lev=ncread('kernels/t.kernel.nc','lev'); ## dont need\n",
    "\n",
    "## Make an area weighting matrix\n",
    "weight=np.tile(gw.values[:,np.newaxis], len(lon))\n",
    "weight=weight/np.nansum(weight)\n",
    "# print(weight.sum())\n",
    "\n",
    "## Read surface temperature change\n",
    "dts=changefile.ts\n",
    "\n",
    "## Calculate the change in global mean surface temperature\n",
    "dts_globalmean= (dts * weight).sum(dim=('lat','lon')).mean(dim='time')\n",
    "print('Global mean dTS: ', dts_globalmean.values)\n",
    "                 "
   ]
  },
  {
   "cell_type": "code",
   "execution_count": 4,
   "id": "b9d40cd8-0daf-4044-b32c-91b7a0620725",
   "metadata": {},
   "outputs": [],
   "source": [
    "## Temperature feedback calculation\n",
    "\n",
    "## Read TOA Longwave surface temperature kernel\n",
    "ts_kernel=xr.open_dataset('./kernels/ts.kernel.nc').FLNT\n",
    "\n",
    "## Multiply monthly mean TS change by the TS kernels (function of\n",
    "## lat, lon, month) (units W/m2)\n",
    "dLW_ts=ts_kernel *dts\n",
    "#dLW_ts.mean(dim='time').plot()\n",
    "\n",
    "## Read air temperature change [lon,lat,level,month]\n",
    "dta=changefile3d.temp\n"
   ]
  },
  {
   "cell_type": "code",
   "execution_count": 5,
   "id": "a56a6ea5-da8b-471d-abb3-2fe14123d43e",
   "metadata": {},
   "outputs": [],
   "source": [
    "## Read midpoint pressure for each grid cell (lat,lon,level,month), [Pa]\n",
    "## VTC adjusted this above to be pressure levels\n",
    "## p=ncread('p_sigma.nc','pmid')/100; %[hPa] "
   ]
  },
  {
   "cell_type": "code",
   "execution_count": 6,
   "id": "142a8743-02e6-4adf-b742-e8a551c48dfe",
   "metadata": {},
   "outputs": [],
   "source": [
    "## Crude tropopause estimate: 100 hPa in the tropics, lowering with\n",
    "## cosine to 300 hPa at the poles.\n",
    "x=np.cos(np.deg2rad(lat))\n",
    "p_tropopause_zonalmean=300-200*x\n",
    "## VTC\n",
    "##p_tropopause= ...\n",
    "##    repmat(permute(repmat(permute(repmat(p_tropopause_zonalmean', ...\n",
    "##                                         [length(lon) 1]),[1 2 3]),[1 ...\n",
    "##                    1 length(lev)]),[1 2 3 4]),[1 1 1 12]);\n",
    "p_tropopause_zonalmean\n",
    "p_tropopause = p_tropopause_zonalmean.values[\n",
    "    np.newaxis, np.newaxis,:, np.newaxis] * np.ones(ta_kernel.FLNT.shape)\n",
    "p_tropopause = xr.DataArray(p_tropopause,dims=changefile3d.dims, coords = changefile3d.coords)"
   ]
  },
  {
   "cell_type": "code",
   "execution_count": 7,
   "id": "b5fe4ec8-e757-4e66-982d-1aad55aedee9",
   "metadata": {},
   "outputs": [],
   "source": [
    "## Set the temperature change to zero in the stratosphere (mask out stratosphere)\n",
    "dta=xr.where(p>=p_tropopause, dta, np.nan)\n",
    "\n",
    "## Convolve air temperature kernel with air temperature change\n",
    "## VTC\n",
    "## dLW_ta=squeeze(sum(ta_kernel.*dta,3));\n",
    "dLW_ta=ta_kernel.FLNT * dta.values * pdiff.values"
   ]
  },
  {
   "cell_type": "code",
   "execution_count": 8,
   "id": "f170202b-5f94-47c2-82ba-44edde62e89d",
   "metadata": {},
   "outputs": [
    {
     "name": "stdout",
     "output_type": "stream",
     "text": [
      "Temperature feedback:  -3.7459334281195757  W m^-2 K^-1\n"
     ]
    }
   ],
   "source": [
    "\n",
    "## Add the surface and air temperature response; Take the annual\n",
    "## average and global area average \n",
    "dLW_t_globalmean = -(\n",
    "    (dLW_ta.sum(dim='plev') + dLW_ts).mean(dim='time') * weight).sum()\n",
    "\n",
    "## Divide by the global annual mean surface warming (units: W/m2/K)\n",
    "t_feedback=dLW_t_globalmean / dts_globalmean\n",
    "\n",
    "print('Temperature feedback: ', str(t_feedback.values), ' W m^-2 K^-1')"
   ]
  },
  {
   "cell_type": "markdown",
   "id": "9b972a65-9eb3-47a9-8f41-27d960eb8856",
   "metadata": {},
   "source": [
    "# Planck Feedback"
   ]
  },
  {
   "cell_type": "code",
   "execution_count": 9,
   "id": "4a3af5e9-5073-4c79-b5e9-b46a5e0be24d",
   "metadata": {},
   "outputs": [],
   "source": [
    "## Project surface temperature change into height \n",
    "##VTC\n",
    "##dts3d=repmat(permute(dts,[1 2 4 3]),[1 1 30 1]);\n",
    "dts3d = dts + changefile3d.temp-changefile3d.temp\n",
    "\n",
    "## Mask stratosphere\n",
    "dt_planck = xr.where(p>=p_tropopause, dts3d, np.nan)\n"
   ]
  },
  {
   "cell_type": "code",
   "execution_count": 10,
   "id": "a186c8aa-c26a-4584-9424-b3616ded2d4b",
   "metadata": {},
   "outputs": [],
   "source": [
    "## Convolve air temperature kernel with 3-d surface air temp change\n",
    "##VTC\n",
    "##dLW_planck=squeeze(sum(ta_kernel_hybrid.*dt_planck,3));\n",
    "# dLW_planck = squeeze(sum(ta_kernel * dt_planck.*pdiff,3))\n",
    "dLW_planck=ta_kernel.FLNT * dt_planck.values * pdiff.values\n",
    "\n",
    "## Take the annual average and global area average; incorporate the\n",
    "## part due to surface temperature change itself \n",
    "dLW_planck_globalmean = -(\n",
    "    (dLW_planck.sum(dim='plev') + dLW_ts).mean(dim='time') * weight).sum()\n",
    "\n",
    "## Divide by the global annual mean surface warming (units: W/m2/K)\n",
    "planck_feedback=dLW_planck_globalmean / dts_globalmean\n"
   ]
  },
  {
   "cell_type": "code",
   "execution_count": 11,
   "id": "123c2c29-0f90-4057-874b-a7d775ef1987",
   "metadata": {},
   "outputs": [
    {
     "name": "stdout",
     "output_type": "stream",
     "text": [
      "Planck feedback:  -3.261498255128057  W m^-2 K^-1\n",
      "Lapse rate feedback:  -0.48443517299151895  W m^-2 K^-1\n",
      "Temperature feedback:  -3.7459334281195757  W m^-2 K^-1\n",
      "Planck+lapse rate components:  -3.7459334281195757  W m^-2 K^-1\n"
     ]
    }
   ],
   "source": [
    "## Lapse rate feedback                                                                                                                                                                 \n",
    "## Calculate the departure of temperature change from the surface\n",
    "## temperature change\n",
    "dt_lapserate=xr.where(p>=p_tropopause, dta-dt_planck, np.nan)\n",
    "\n",
    "## Convolve air temperature kernel with 3-d surface air temp change\n",
    "## VTC\n",
    "## dLW_lapserate=squeeze(sum(ta_kernel.*dt_lapserate,3));\n",
    "# dLW_lapserate=squeeze(sum(ta_kernel.*dt_lapserate.*pdiff,3));\n",
    "dLW_lapserate = ta_kernel.FLNT * dt_lapserate.values * pdiff.values\n",
    "\n",
    "## Take the annual average and global area average \n",
    "dLW_lapserate_globalmean = -(\n",
    "    (dLW_lapserate.sum(dim='plev')).mean(dim='time') * weight).sum()\n",
    "\n",
    "## Divide by the global annual mean surface warming (units: W/m2/K)\n",
    "lapserate_feedback = dLW_lapserate_globalmean / dts_globalmean\n",
    "\n",
    "print('Planck feedback: ', \n",
    "      str(planck_feedback.values), ' W m^-2 K^-1')\n",
    "print('Lapse rate feedback: ', \n",
    "      str(lapserate_feedback.values), ' W m^-2 K^-1')\n",
    "\n",
    "### SANITY CHECK: Do the Planck and lapse-rate feedbacks add up to\n",
    "### the total temperature feedback? (They should)\n",
    "\n",
    "## Planck + lapse rate feedback\n",
    "total_t_feedback = planck_feedback+lapserate_feedback\n",
    "\n",
    "print('Temperature feedback: ',\n",
    "      str(t_feedback.values), ' W m^-2 K^-1')\n",
    "print('Planck+lapse rate components: ',\n",
    "      str(total_t_feedback.values), ' W m^-2 K^-1')\n"
   ]
  },
  {
   "cell_type": "code",
   "execution_count": null,
   "id": "be3f3336-b743-461b-a99e-cf3728ebd506",
   "metadata": {},
   "outputs": [],
   "source": []
  }
 ],
 "metadata": {
  "kernelspec": {
   "display_name": "Python [conda env:miniconda3-plato]",
   "language": "python",
   "name": "conda-env-miniconda3-plato-py"
  },
  "language_info": {
   "codemirror_mode": {
    "name": "ipython",
    "version": 3
   },
   "file_extension": ".py",
   "mimetype": "text/x-python",
   "name": "python",
   "nbconvert_exporter": "python",
   "pygments_lexer": "ipython3",
   "version": "3.8.13"
  }
 },
 "nbformat": 4,
 "nbformat_minor": 5
}
